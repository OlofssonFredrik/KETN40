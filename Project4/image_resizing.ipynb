{
 "cells": [
  {
   "cell_type": "code",
   "execution_count": 2,
   "metadata": {},
   "outputs": [],
   "source": [
    "import cv2\n",
    "import os\n",
    "from pathlib import Path"
   ]
  },
  {
   "cell_type": "code",
   "execution_count": 3,
   "metadata": {},
   "outputs": [],
   "source": [
    "path = Path('ethanol')\n",
    "output_path = Path('ethanol_rescaled')\n",
    "desired_size = (224, 224)  # Desired width and height in pixels\n",
    "\n",
    "# Ensure output path exists\n",
    "output_path.mkdir(parents=True, exist_ok=True)\n",
    "\n",
    "# Iterate through files in path\n",
    "for file_name in os.listdir(path):\n",
    "    file_path = path / file_name\n",
    "    output_file_path = output_path / file_name\n",
    "    \n",
    "    # Read the image\n",
    "    img = cv2.imread(str(file_path))\n",
    "    \n",
    "    # Resize the image\n",
    "    img_rescaled = cv2.resize(img, desired_size)\n",
    "    \n",
    "    # Save the rescaled image\n",
    "    cv2.imwrite(str(output_file_path), img_rescaled)"
   ]
  }
 ],
 "metadata": {
  "kernelspec": {
   "display_name": "KETN40",
   "language": "python",
   "name": "python3"
  },
  "language_info": {
   "codemirror_mode": {
    "name": "ipython",
    "version": 3
   },
   "file_extension": ".py",
   "mimetype": "text/x-python",
   "name": "python",
   "nbconvert_exporter": "python",
   "pygments_lexer": "ipython3",
   "version": "3.11.5"
  }
 },
 "nbformat": 4,
 "nbformat_minor": 2
}
