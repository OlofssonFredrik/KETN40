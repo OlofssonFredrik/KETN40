{
 "cells": [
  {
   "cell_type": "code",
   "execution_count": 1,
   "metadata": {},
   "outputs": [],
   "source": [
    "from pathlib import Path\n",
    "import pandas as pd\n",
    "import numpy as np\n",
    "import os\n",
    "from matplotlib import pyplot as plt\n",
    "import os\n",
    "import shutil\n",
    "from sklearn.model_selection import train_test_split\n",
    "import cv2"
   ]
  },
  {
   "cell_type": "code",
   "execution_count": 10,
   "metadata": {},
   "outputs": [
    {
     "name": "stdout",
     "output_type": "stream",
     "text": [
      "img.shape: (224, 224)\n",
      "img.dtype: <class 'numpy.ndarray'>\n"
     ]
    }
   ],
   "source": [
    "path = Path('water_rescaled')\n",
    "\n",
    "files = [path / file_name for file_name in os.listdir('water')]\n",
    "\n",
    "img = cv2.imread(str(files[0]), cv2.IMREAD_GRAYSCALE)\n",
    "   \n",
    "print(f\"img.shape: {img.shape}\")\n",
    "print(f\"img.dtype: {type(img)}\")\n",
    "\n",
    "img_norm = img / 255.0\n"
   ]
  },
  {
   "cell_type": "code",
   "execution_count": 4,
   "metadata": {},
   "outputs": [],
   "source": [
    "\n",
    "\n",
    "# Paths to your current folders with images\n",
    "water_path = 'water_rescaled'\n",
    "ethanol_path = 'ethanol_rescaled'\n",
    "\n",
    "# Paths where the new structured data will be stored\n",
    "train_path = 'data/train'\n",
    "valid_path = 'data/valid'\n",
    "\n",
    "# Create the necessary directories\n",
    "os.makedirs(os.path.join(train_path, 'water'), exist_ok=True)\n",
    "os.makedirs(os.path.join(train_path, 'ethanol'), exist_ok=True)\n",
    "os.makedirs(os.path.join(valid_path, 'water'), exist_ok=True)\n",
    "os.makedirs(os.path.join(valid_path, 'ethanol'), exist_ok=True)\n",
    "\n",
    "# Function to split the data and copy the files\n",
    "def process_images(original_path, train_folder, valid_folder, test_size=0.2):\n",
    "    # Get all file names in the original folder\n",
    "    all_files = os.listdir(original_path)\n",
    "    \n",
    "    # Split the file names into train and validation sets\n",
    "    train_files, valid_files = train_test_split(all_files, test_size=test_size, random_state=42)\n",
    "    \n",
    "    # Copy the files into the new structure\n",
    "    for file_name in train_files:\n",
    "        shutil.copy(os.path.join(original_path, file_name), os.path.join(train_folder, file_name))\n",
    "    \n",
    "    for file_name in valid_files:\n",
    "        shutil.copy(os.path.join(original_path, file_name), os.path.join(valid_folder, file_name))\n",
    "\n",
    "# Process the images\n",
    "process_images(water_path, os.path.join(train_path, 'water'), os.path.join(valid_path, 'water'))\n",
    "process_images(ethanol_path, os.path.join(train_path, 'ethanol'), os.path.join(valid_path, 'ethanol'))\n"
   ]
  }
 ],
 "metadata": {
  "kernelspec": {
   "display_name": "KETN40",
   "language": "python",
   "name": "python3"
  },
  "language_info": {
   "codemirror_mode": {
    "name": "ipython",
    "version": 3
   },
   "file_extension": ".py",
   "mimetype": "text/x-python",
   "name": "python",
   "nbconvert_exporter": "python",
   "pygments_lexer": "ipython3",
   "version": "3.11.5"
  }
 },
 "nbformat": 4,
 "nbformat_minor": 2
}
