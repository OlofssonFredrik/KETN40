{
 "cells": [
  {
   "cell_type": "code",
   "execution_count": 1,
   "metadata": {},
   "outputs": [],
   "source": [
    "import torch\n",
    "import torch.nn as nn\n",
    "import torch.optim as optim\n",
    "from torch.utils.data import DataLoader\n",
    "from torchvision import datasets, transforms\n",
    "from tqdm import tqdm\n",
    "import matplotlib.pyplot as plt\n",
    "import torchvision\n",
    "import random"
   ]
  },
  {
   "cell_type": "code",
   "execution_count": 2,
   "metadata": {},
   "outputs": [
    {
     "name": "stdout",
     "output_type": "stream",
     "text": [
      "Files already downloaded and verified\n",
      "Files already downloaded and verified\n"
     ]
    }
   ],
   "source": [
    "# Define a transform to normalize the data\n",
    "transform = transforms.Compose([\n",
    "    transforms.ToTensor(),\n",
    "    #transforms.Normalize((0.5, 0.5, 0.5), (0.5, 0.5, 0.5))\n",
    "    \n",
    "])\n",
    "\n",
    "# Download CIFAR-10 data\n",
    "full_trainset = torchvision.datasets.CIFAR10(root='./data', train=True,\n",
    "                                             download=True, transform=transform)\n",
    "\n",
    "# Split the training data into training and validation subsets\n",
    "train_size = int(0.8 * len(full_trainset))  # Use 80% for training\n",
    "valid_size = len(full_trainset) - train_size  # Use the rest for validation\n",
    "\n",
    "trainset, validset = torch.utils.data.random_split(full_trainset, [train_size, valid_size])\n",
    "\n",
    "# Create data loaders\n",
    "trainloader = torch.utils.data.DataLoader(trainset, batch_size=32,\n",
    "                                          shuffle=True, num_workers=2)\n",
    "\n",
    "validloader = torch.utils.data.DataLoader(validset, batch_size=32,\n",
    "                                          shuffle=False, num_workers=2)\n",
    "\n",
    "# Download and load the test data\n",
    "testset = torchvision.datasets.CIFAR10(root='./data', train=False,\n",
    "                                       download=True, transform=transform)\n",
    "testloader = torch.utils.data.DataLoader(testset, batch_size=32,\n",
    "                                         shuffle=False, num_workers=2)\n"
   ]
  },
  {
   "cell_type": "code",
   "execution_count": 3,
   "metadata": {},
   "outputs": [
    {
     "name": "stdout",
     "output_type": "stream",
     "text": [
      "Number of training images:  40000\n",
      "Number of validation images:  10000\n",
      "Number of test images:  10000\n",
      "{'airplane': 0, 'automobile': 1, 'bird': 2, 'cat': 3, 'deer': 4, 'dog': 5, 'frog': 6, 'horse': 7, 'ship': 8, 'truck': 9}\n"
     ]
    }
   ],
   "source": [
    "print('Number of training images: ', len(trainset))\n",
    "print('Number of validation images: ', len(validset))\n",
    "print('Number of test images: ', len(testset))\n",
    "\n",
    "#Print classes and index\n",
    "print(testloader.dataset.class_to_idx)\n",
    "\n",
    "def get_name_from_index(index):\n",
    "    for name, num in testloader.dataset.class_to_idx.items():\n",
    "        if num == index:\n",
    "            return name\n"
   ]
  },
  {
   "cell_type": "code",
   "execution_count": 4,
   "metadata": {},
   "outputs": [],
   "source": [
    "class VGGStyleModel(nn.Module):\n",
    "    def __init__(self):\n",
    "        super(VGGStyleModel, self).__init__()\n",
    "        \n",
    "        # Define convolutional layers\n",
    "        self.conv_layers = nn.Sequential(\n",
    "            # Block 1\n",
    "            nn.Conv2d(3, 32, kernel_size=3, padding=1),\n",
    "            nn.ReLU(),\n",
    "            nn.Conv2d(32, 32, kernel_size=3, padding=1),\n",
    "            nn.ReLU(),\n",
    "            nn.MaxPool2d(kernel_size=2, stride=2),\n",
    "            \n",
    "            # Block 2\n",
    "            nn.Conv2d(32, 64, kernel_size=3, padding=1),\n",
    "            nn.ReLU(),\n",
    "            nn.Conv2d(64, 64, kernel_size=3, padding=1),\n",
    "            nn.ReLU(),\n",
    "            nn.MaxPool2d(kernel_size=2, stride=2),\n",
    "            \n",
    "            # Block 3\n",
    "            nn.Conv2d(64, 128, kernel_size=3, padding=1),\n",
    "            nn.ReLU(),\n",
    "            nn.Conv2d(128, 128, kernel_size=3, padding=1),\n",
    "            nn.ReLU(),\n",
    "            nn.MaxPool2d(kernel_size=2, stride=2),\n",
    "        )\n",
    "        \n",
    "        # Define fully connected layers\n",
    "        self.fc_layers = nn.Sequential(\n",
    "            nn.Linear(128 * 4 * 4, 512),  # assuming input size is 32x32\n",
    "            nn.ReLU(),\n",
    "            nn.Linear(512, 256),\n",
    "            nn.ReLU(),\n",
    "            nn.Linear(256, 10),  # assuming a classification task with 10 classes\n",
    "            nn.Softmax(dim=1)\n",
    "        )\n",
    "        \n",
    "        # Initialize weights using He initialization\n",
    "        for m in self.modules():\n",
    "            if isinstance(m, nn.Conv2d):\n",
    "                nn.init.kaiming_uniform_(m.weight, nonlinearity='relu')\n",
    "                if m.bias is not None:\n",
    "                    nn.init.constant_(m.bias, 0)\n",
    "            elif isinstance(m, nn.Linear):\n",
    "                nn.init.kaiming_uniform_(m.weight, nonlinearity='relu')\n",
    "                nn.init.constant_(m.bias, 0)\n",
    "        \n",
    "    def forward(self, x):\n",
    "        x = self.conv_layers(x)\n",
    "        x = x.view(x.size(0), -1)  # Flatten the output from conv layers\n",
    "        x = self.fc_layers(x)\n",
    "        return x\n"
   ]
  },
  {
   "cell_type": "code",
   "execution_count": 5,
   "metadata": {},
   "outputs": [],
   "source": [
    "# Initialize model, loss function, and optimizer\n",
    "model = VGGStyleModel()\n",
    "loss_fn = nn.CrossEntropyLoss()\n",
    "optimizer = optim.Adam(model.parameters(), lr=0.001)"
   ]
  },
  {
   "cell_type": "code",
   "execution_count": 6,
   "metadata": {},
   "outputs": [
    {
     "name": "stdout",
     "output_type": "stream",
     "text": [
      "Starting training...\n"
     ]
    },
    {
     "name": "stderr",
     "output_type": "stream",
     "text": [
      "Epoch 1/5: 100%|██████████| 1250/1250 [04:31<00:00,  4.60batch/s]\n"
     ]
    },
    {
     "name": "stdout",
     "output_type": "stream",
     "text": [
      "Epoch 0/5 - Train Loss: 2.3326, Train Acc: 0.0753, Valid Loss: 2.3620, Valid Acc: 0.0991\n"
     ]
    },
    {
     "name": "stderr",
     "output_type": "stream",
     "text": [
      "Epoch 2/5: 100%|██████████| 1250/1250 [09:53<00:00,  2.11batch/s]\n"
     ]
    },
    {
     "name": "stdout",
     "output_type": "stream",
     "text": [
      "Epoch 1/5 - Train Loss: 2.3609, Train Acc: 0.1002, Valid Loss: 2.3620, Valid Acc: 0.0991\n"
     ]
    },
    {
     "name": "stderr",
     "output_type": "stream",
     "text": [
      "Epoch 3/5:  51%|█████     | 634/1250 [05:24<08:57,  1.15batch/s]"
     ]
    }
   ],
   "source": [
    "# Training settings\n",
    "EPOCHS = 3\n",
    "train_losses = []\n",
    "valid_losses = []\n",
    "#best_valid_loss = float('inf')  # Initialize with infinity to ensure any loss is smaller\n",
    "#best_model_wts = None  # To store best model weights\n",
    "\n",
    "print(\"Starting training...\")\n",
    "\n",
    "\n",
    "for epoch in range(EPOCHS):\n",
    "    model.train()\n",
    "    train_loss = 0.0\n",
    "    correct_train = 0  # To calculate training accuracy\n",
    "    \n",
    "    for inputs, labels in tqdm(trainloader, desc=f\"Epoch {epoch + 1}/{EPOCHS}\", unit=\"batch\"):\n",
    "        #print(f\"inputs: {inputs[0].shape}\")\n",
    "        #print(f\"labels: {labels[0]}\")\n",
    "        optimizer.zero_grad()\n",
    "        outputs = model(inputs).squeeze()\n",
    "        #print(f\"outputs: {outputs.shape}\")\n",
    "        #print one output\n",
    "        #print(f\"outputs: {outputs}\")\n",
    "        loss = loss_fn(outputs, labels)\n",
    "        loss.backward()\n",
    "        optimizer.step()\n",
    "        train_loss += loss.item()\n",
    "        \n",
    "        # Calculate training accuracy\n",
    "        preds = torch.argmax(outputs) \n",
    "        #print(f\"preds: {preds}\")\n",
    "      \n",
    "        correct_train += (preds == labels).sum().item()\n",
    "\n",
    "    \n",
    "    train_losses.append(train_loss/len(trainloader))\n",
    "    train_acc = correct_train / len(trainloader.dataset)\n",
    "    \n",
    "    model.eval()\n",
    "    valid_loss = 0.0\n",
    "    correct_valid = 0  # To calculate validation accuracy\n",
    "    \n",
    "    with torch.no_grad():\n",
    "        for inputs, labels in validloader:\n",
    "            outputs = model(inputs).squeeze()\n",
    "            loss = loss_fn(outputs, labels)\n",
    "            valid_loss += loss.item()\n",
    "            \n",
    "            # Calculate validation accuracy\n",
    "            preds = torch.argmax(outputs)\n",
    "            correct_valid += (preds == labels).sum().item()\n",
    "    \n",
    "    valid_losses.append(valid_loss/len(validloader))\n",
    "    valid_acc = correct_valid / len(validloader.dataset)\n",
    "    \n",
    "    # Save the model if it has a lower validation loss than the best model seen so far\n",
    "    #if valid_losses[-1] < best_valid_loss:\n",
    "    #    best_valid_loss = valid_losses[-1]\n",
    "    #    best_model_wts = model.state_dict().copy()\n",
    "    \n",
    "    print(f\"Epoch {epoch}/{EPOCHS} - Train Loss: {train_losses[-1]:.4f}, Train Acc: {train_acc:.4f}, Valid Loss: {valid_losses[-1]:.4f}, Valid Acc: {valid_acc:.4f}\")\n",
    "\n",
    "# Load the best model weights\n",
    "#model.load_state_dict(best_m"
   ]
  },
  {
   "cell_type": "code",
   "execution_count": null,
   "metadata": {},
   "outputs": [
    {
     "data": {
      "text/plain": [
       "(torch.Size([3, 32, 32]), 9)"
      ]
     },
     "execution_count": 20,
     "metadata": {},
     "output_type": "execute_result"
    }
   ],
   "source": [
    "len(testloader.dataset)\n",
    "\n",
    "sample_img, sample_label = testloader.dataset[8000]\n",
    "sample_img.shape, sample_label"
   ]
  },
  {
   "cell_type": "code",
   "execution_count": null,
   "metadata": {},
   "outputs": [],
   "source": [
    "PATH = \"model_state_dict.pth\"\n",
    "model.load_state_dict(torch.load(PATH))"
   ]
  },
  {
   "cell_type": "code",
   "execution_count": null,
   "metadata": {},
   "outputs": [
    {
     "name": "stdout",
     "output_type": "stream",
     "text": [
      "pred: tensor([[0., 0., 0., 0., 0., 0., 0., 1., 0., 0.]])\n",
      "pred_class: 7\n"
     ]
    },
    {
     "data": {
      "image/png": "[encoded data removed]",
      "text/plain": [
       "<Figure size 1000x500 with 2 Axes>"
      ]
     },
     "metadata": {},
     "output_type": "display_data"
    }
   ],
   "source": [
    "def visualize_prection(testloader, model):\n",
    "    random_idx = random.randint(0, len(testloader.dataset)-1)\n",
    "    sample_img, sample_label = testloader.dataset[random_idx]\n",
    "    \n",
    "    # Get the model prediction\n",
    "    model.eval()\n",
    "    with torch.no_grad():\n",
    "        pred = model(sample_img.unsqueeze(0))\n",
    "        print(f\"pred: {pred}\")\n",
    "        pred_class = torch.argmax(pred)\n",
    "        print(f\"pred_class: {pred_class}\")\n",
    "\n",
    "    # Visualize the sample image\n",
    "    fig, axs = plt.subplots(1, 2, figsize=(10, 5))\n",
    "    axs[0].imshow(sample_img.permute(1, 2, 0))\n",
    "    axs[1].imshow(sample_img.permute(1, 2, 0))\n",
    "    axs[1].set_title(f\"True Label: {get_name_from_index(sample_label)}\")\n",
    "    axs[0].set_title(f\"Predicted Label: {get_name_from_index(pred_class)}\")\n",
    "    plt.show()\n",
    "\n",
    "visualize_prection(testloader, model)\n"
   ]
  }
 ],
 "metadata": {
  "kernelspec": {
   "display_name": "KETN40",
   "language": "python",
   "name": "python3"
  },
  "language_info": {
   "codemirror_mode": {
    "name": "ipython",
    "version": 3
   },
   "file_extension": ".py",
   "mimetype": "text/x-python",
   "name": "python",
   "nbconvert_exporter": "python",
   "pygments_lexer": "ipython3",
   "version": "3.11.5"
  }
 },
 "nbformat": 4,
 "nbformat_minor": 2
}
