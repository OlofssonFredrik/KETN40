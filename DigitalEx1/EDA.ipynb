{
 "cells": [
  {
   "cell_type": "code",
   "execution_count": null,
   "metadata": {},
   "outputs": [],
   "source": [
    "import matplotlib.pyplot as plt\n",
    "import numpy as np\n",
    "from scipy import stats\n",
    "\n",
    "from PhysPropWater import lamb, mu, rho, Cp"
   ]
  },
  {
   "cell_type": "code",
   "execution_count": null,
   "metadata": {},
   "outputs": [],
   "source": [
    "plt.plot(rho[:, 0], rho[:, 1])\n",
    "plt.show()"
   ]
  },
  {
   "cell_type": "code",
   "execution_count": 67,
   "metadata": {},
   "outputs": [
    {
     "name": "stdout",
     "output_type": "stream",
     "text": [
      "X_rho = [[  0.   1.]\n",
      " [  5.   1.]\n",
      " [ 10.   1.]\n",
      " [ 20.   1.]\n",
      " [ 30.   1.]\n",
      " [ 40.   1.]\n",
      " [ 50.   1.]\n",
      " [ 60.   1.]\n",
      " [ 70.   1.]\n",
      " [ 80.   1.]\n",
      " [ 90.   1.]\n",
      " [100.   1.]]\n"
     ]
    },
    {
     "data": {
      "text/plain": [
       "array([[ 7.77831794e-05, -3.59747205e-03],\n",
       "       [-3.59747205e-03,  2.49716415e-01]])"
      ]
     },
     "execution_count": 67,
     "metadata": {},
     "output_type": "execute_result"
    }
   ],
   "source": [
    "x_rho = rho[:, 0]\n",
    "y_rho = rho[:, 1]\n",
    "X_rho = np.array([x_rho, np.ones(len(x_rho))]).T\n",
    "print(f\"X_rho = {X_rho}\")\n",
    "print(f\"x_rho.T = {x_rho.T}\")\n",
    "XT_X_inv = np.linalg.inv(X_rho.T @ X_rho)\n",
    "XT_X_inv"
   ]
  },
  {
   "cell_type": "code",
   "execution_count": null,
   "metadata": {},
   "outputs": [],
   "source": [
    "p = XT_X_inv @ X_rho.T @ y_rho\n",
    "\n",
    "x_values = range(0, 100)\n",
    "plt.plot(x_values, p[0] * x_values + p[1], label=\"Linear Regression\")\n",
    "plt.plot(x_rho, y_rho, label=\"Data\")\n",
    "plt.show()"
   ]
  },
  {
   "cell_type": "code",
   "execution_count": null,
   "metadata": {},
   "outputs": [],
   "source": [
    "y_fit = np.polyfit(x_rho, y_rho, 1)\n",
    "y_fit_fn = np.poly1d(y_fit)\n",
    "residuals = y_rho - y_fit_fn(x_rho)\n",
    "sum_of_squares = np.sum(residuals ** 2)\n",
    "\n",
    "\n",
    "fig, axs = plt.subplots(3, 1, figsize=(10, 10))\n",
    "axs[0].plot(x_rho, y_rho, label=\"Data\")\n",
    "axs[0].plot(x_rho, y_fit_fn(x_rho), label=\"Linear Regression\")\n",
    "axs[0].legend()\n",
    "\n",
    "axs[1].plot(x_rho, residuals, label=\"Residuals\")\n",
    "axs[1].legend()\n",
    "\n",
    "axs[2].plot(x_rho, residuals ** 2, label=\"Squared Residuals\")\n",
    "axs[2].legend()\n",
    "plt.show()"
   ]
  },
  {
   "cell_type": "code",
   "execution_count": 63,
   "metadata": {},
   "outputs": [
    {
     "name": "stdout",
     "output_type": "stream",
     "text": [
      "p: [-4.20408362e-01  1.00506889e+03]\n",
      "\n",
      "sigma_squared: 12.418785610111891\n",
      "\n",
      "XT_X_inv: [[ 7.77831794e-05 -3.59747205e-03]\n",
      " [-3.59747205e-03  2.49716415e-01]]\n",
      "\n",
      "shape of XT_X_inv: (2, 2)\n",
      "\n",
      "sigma*XT_inv: [[ 9.65972629e-04 -4.46762341e-02]\n",
      " [-4.46762341e-02  3.10117463e+00]]\n",
      "\n",
      "s_p = [[0.0310801         nan]\n",
      " [       nan 1.76101523]]\n",
      "\n",
      "T_inv: 1.8124611228107335\n",
      "\n",
      "sp_Tinv: [[0.05633147        nan]\n",
      " [       nan 3.19177163]]\n",
      "\n"
     ]
    },
    {
     "name": "stderr",
     "output_type": "stream",
     "text": [
      "C:\\Users\\olofs\\AppData\\Local\\Temp\\ipykernel_25820\\1260893712.py:10: RuntimeWarning: invalid value encountered in sqrt\n",
      "  s_p = np.sqrt(sigma_squared * XT_X_inv)\n"
     ]
    }
   ],
   "source": [
    "print(f\"p: {p}\" + \"\\n\")\n",
    "sigma_squared = sum_of_squares / (len(x_rho) - 2)\n",
    "print(f\"sigma_squared: {sigma_squared}\" + \"\\n\")\n",
    "\n",
    "print(f\"XT_X_inv: {XT_X_inv}\" + \"\\n\")\n",
    "print(f\"shape of XT_X_inv: {XT_X_inv.shape}\" + \"\\n\")\n",
    "\n",
    "print(f\"sigma*XT_inv: {sigma_squared * XT_X_inv}\" + \"\\n\")\n",
    "\n",
    "s_p = np.sqrt(sigma_squared * XT_X_inv)\n",
    "print(f\"s_p = {s_p}\"+ \"\\n\")\n",
    "\n",
    "T_inv = stats.t.ppf(0.95, len(x_rho) - 2)\n",
    "print(f\"T_inv: {T_inv}\" + \"\\n\")\n",
    "\n",
    "sp_Tinv = s_p * T_inv\n",
    "print(f\"sp_Tinv: {sp_Tinv}\" + \"\\n\")\n",
    "\n",
    "\n"
   ]
  }
 ],
 "metadata": {
  "kernelspec": {
   "display_name": "base",
   "language": "python",
   "name": "python3"
  },
  "language_info": {
   "codemirror_mode": {
    "name": "ipython",
    "version": 3
   },
   "file_extension": ".py",
   "mimetype": "text/x-python",
   "name": "python",
   "nbconvert_exporter": "python",
   "pygments_lexer": "ipython3",
   "version": "3.9.12"
  },
  "orig_nbformat": 4
 },
 "nbformat": 4,
 "nbformat_minor": 2
}
