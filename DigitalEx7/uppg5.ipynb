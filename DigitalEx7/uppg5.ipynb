{
 "cells": [
  {
   "cell_type": "code",
   "execution_count": null,
   "metadata": {},
   "outputs": [],
   "source": [
    "import pickle\n",
    "import matplotlib.pyplot as plt\n",
    "import numpy as np\n",
    "from sklearn.tree import DecisionTreeRegressor, DecisionTreeClassifier\n",
    "from sklearn import tree\n",
    "from sklearn.metrics import mean_absolute_error"
   ]
  },
  {
   "cell_type": "code",
   "execution_count": null,
   "metadata": {},
   "outputs": [],
   "source": [
    "# we create points\n",
    "with open('reacdata.pc','rb') as f:\n",
    "    data = pickle.load(f)\n",
    "x1 = np.array(data['pH'])\n",
    "x2 = np.array(data['ratio S/A']) # Sampled data (with noise)\n",
    "y = np.array(data['yield']) # True data\n",
    "# Make data binary, 0 or 1\n",
    "ybin = np.zeros(len(y))\n",
    "ybin[y>0.45] = 1\n",
    "X = np.array([x1,x2]).T # make a N x 2 matrix"
   ]
  },
  {
   "cell_type": "code",
   "execution_count": null,
   "metadata": {},
   "outputs": [],
   "source": [
    "for i,depth in enumerate([1,2,5,10]):\n",
    "    plt.subplot(2,2,i+1)\n",
    "    # Create a tree model instance and fit to data\n",
    "    model = DecisionTreeClassifier(max_depth=depth)\n",
    "    model.fit(X, ybin)\n",
    "    # Use the model to predict the X data to calculate the error\n",
    "    y_pred = model.predict(X)\n",
    "    error = mean_absolute_error(y_pred, ybin)\n",
    "    # Plot all binary data points with different colors\n",
    "    for i in range(len(x1)):\n",
    "        if ybin[i]: # 1\n",
    "            plt.plot(x1[i], x2[i], 'go')\n",
    "        else: # 0\n",
    "            plt.plot(x1[i], x2[i], 'ro')\n",
    "    # Create finely gridded x1 and x2\n",
    "    Ngrid = 100\n",
    "    x1_fine = np.linspace(np.min(x1), np.max(x1), Ngrid)\n",
    "    x2_fine = np.linspace(np.min(x2), np.max(x2), Ngrid)\n",
    "    X1, X2 = np.meshgrid(x1_fine,x2_fine)\n",
    "    # Evaluate the model at all points\n",
    "    Z = X1*0\n",
    "    for row in range(Ngrid):\n",
    "        for col in range(Ngrid):\n",
    "            x = [[X1[row,col], X2[row,col]]] # The evaluated point must be2D\n",
    "            Z[row,col] = model.predict(x)\n",
    "    plt.contourf(X1, X2, Z, levels=1)\n",
    "    plt.xlabel('pH')\n",
    "    plt.ylabel('ratio S/A')\n",
    "    plt.title(f'{depth = } {error = :.2f}')\n",
    "    text_representation = tree.export_text(model)\n",
    "    print(f'========== {depth = } ============')\n",
    "    print(text_representation)"
   ]
  }
 ],
 "metadata": {
  "language_info": {
   "name": "python"
  },
  "orig_nbformat": 4
 },
 "nbformat": 4,
 "nbformat_minor": 2
}
