{
 "cells": [
  {
   "cell_type": "code",
   "execution_count": 1,
   "metadata": {},
   "outputs": [
    {
     "name": "stderr",
     "output_type": "stream",
     "text": [
      "c:\\Users\\olofs\\anaconda3\\lib\\site-packages\\scipy\\__init__.py:146: UserWarning: A NumPy version >=1.16.5 and <1.23.0 is required for this version of SciPy (detected version 1.23.4\n",
      "  warnings.warn(f\"A NumPy version >={np_minversion} and <{np_maxversion}\"\n"
     ]
    }
   ],
   "source": [
    "import pickle\n",
    "import matplotlib.pyplot as plt\n",
    "import numpy as np\n",
    "from sklearn.tree import DecisionTreeRegressor\n",
    "from sklearn import tree\n",
    "from PhysPropWater import rho\n",
    "from sklearn.metrics import mean_absolute_error"
   ]
  },
  {
   "cell_type": "code",
   "execution_count": 4,
   "metadata": {},
   "outputs": [
    {
     "data": {
      "text/plain": [
       "<matplotlib.legend.Legend at 0x1c03fee45e0>"
      ]
     },
     "execution_count": 4,
     "metadata": {},
     "output_type": "execute_result"
    },
    {
     "data": {
      "image/png": "[encoded data removed]",
      "text/plain": [
       "<Figure size 432x288 with 1 Axes>"
      ]
     },
     "metadata": {
      "needs_background": "light"
     },
     "output_type": "display_data"
    }
   ],
   "source": [
    "# Create two vectors\n",
    "x = rho[:,0]\n",
    "y = rho[:,1]\n",
    "X = np.array([x]).T # make a N x 2 matrix\n",
    "# Plot the data once\n",
    "plt.plot(x, y, '-ko', label='rho', markersize=10)\n",
    "colors = ['g','k','pink','r'] # Plot with different colors\n",
    "plt.legend()"
   ]
  },
  {
   "cell_type": "code",
   "execution_count": 5,
   "metadata": {},
   "outputs": [
    {
     "name": "stdout",
     "output_type": "stream",
     "text": [
      "========== depth = 1 ============\n",
      "text rep: |--- feature_0 <= 65.00\n",
      "|   |--- value: [994.56]\n",
      "|--- feature_0 >  65.00\n",
      "|   |--- value: [967.75]\n",
      "\n",
      "========== depth = 2 ============\n",
      "text rep: |--- feature_0 <= 65.00\n",
      "|   |--- feature_0 <= 35.00\n",
      "|   |   |--- value: [998.70]\n",
      "|   |--- feature_0 >  35.00\n",
      "|   |   |--- value: [987.67]\n",
      "|--- feature_0 >  65.00\n",
      "|   |--- feature_0 <= 85.00\n",
      "|   |   |--- value: [974.00]\n",
      "|   |--- feature_0 >  85.00\n",
      "|   |   |--- value: [961.50]\n",
      "\n",
      "========== depth = 3 ============\n",
      "text rep: |--- feature_0 <= 65.00\n",
      "|   |--- feature_0 <= 35.00\n",
      "|   |   |--- feature_0 <= 15.00\n",
      "|   |   |   |--- value: [999.83]\n",
      "|   |   |--- feature_0 >  15.00\n",
      "|   |   |   |--- value: [997.00]\n",
      "|   |--- feature_0 >  35.00\n",
      "|   |   |--- feature_0 <= 55.00\n",
      "|   |   |   |--- value: [990.00]\n",
      "|   |   |--- feature_0 >  55.00\n",
      "|   |   |   |--- value: [983.00]\n",
      "|--- feature_0 >  65.00\n",
      "|   |--- feature_0 <= 85.00\n",
      "|   |   |--- feature_0 <= 75.00\n",
      "|   |   |   |--- value: [977.00]\n",
      "|   |   |--- feature_0 >  75.00\n",
      "|   |   |   |--- value: [971.00]\n",
      "|   |--- feature_0 >  85.00\n",
      "|   |   |--- feature_0 <= 95.00\n",
      "|   |   |   |--- value: [965.00]\n",
      "|   |   |--- feature_0 >  95.00\n",
      "|   |   |   |--- value: [958.00]\n",
      "\n",
      "========== depth = 5 ============\n",
      "text rep: |--- feature_0 <= 65.00\n",
      "|   |--- feature_0 <= 35.00\n",
      "|   |   |--- feature_0 <= 15.00\n",
      "|   |   |   |--- feature_0 <= 7.50\n",
      "|   |   |   |   |--- feature_0 <= 2.50\n",
      "|   |   |   |   |   |--- value: [999.80]\n",
      "|   |   |   |   |--- feature_0 >  2.50\n",
      "|   |   |   |   |   |--- value: [1000.00]\n",
      "|   |   |   |--- feature_0 >  7.50\n",
      "|   |   |   |   |--- value: [999.70]\n",
      "|   |   |--- feature_0 >  15.00\n",
      "|   |   |   |--- feature_0 <= 25.00\n",
      "|   |   |   |   |--- value: [998.00]\n",
      "|   |   |   |--- feature_0 >  25.00\n",
      "|   |   |   |   |--- value: [996.00]\n",
      "|   |--- feature_0 >  35.00\n",
      "|   |   |--- feature_0 <= 55.00\n",
      "|   |   |   |--- feature_0 <= 45.00\n",
      "|   |   |   |   |--- value: [992.00]\n",
      "|   |   |   |--- feature_0 >  45.00\n",
      "|   |   |   |   |--- value: [988.00]\n",
      "|   |   |--- feature_0 >  55.00\n",
      "|   |   |   |--- value: [983.00]\n",
      "|--- feature_0 >  65.00\n",
      "|   |--- feature_0 <= 85.00\n",
      "|   |   |--- feature_0 <= 75.00\n",
      "|   |   |   |--- value: [977.00]\n",
      "|   |   |--- feature_0 >  75.00\n",
      "|   |   |   |--- value: [971.00]\n",
      "|   |--- feature_0 >  85.00\n",
      "|   |   |--- feature_0 <= 95.00\n",
      "|   |   |   |--- value: [965.00]\n",
      "|   |   |--- feature_0 >  95.00\n",
      "|   |   |   |--- value: [958.00]\n",
      "\n"
     ]
    },
    {
     "data": {
      "text/plain": [
       "<matplotlib.legend.Legend at 0x1c03dd75760>"
      ]
     },
     "execution_count": 5,
     "metadata": {},
     "output_type": "execute_result"
    },
    {
     "data": {
      "image/png": "[encoded data removed]",
      "text/plain": [
       "<Figure size 432x288 with 1 Axes>"
      ]
     },
     "metadata": {
      "needs_background": "light"
     },
     "output_type": "display_data"
    }
   ],
   "source": [
    "# Loop over different depths\n",
    "for i, depth in enumerate([1,2,3,5]):\n",
    "    # Make a regressor model and fit\n",
    "    model = DecisionTreeRegressor(max_depth=depth)\n",
    "    model.fit(X, y)\n",
    "    # Get the predicted y at x to calculate the error\n",
    "    y_pred = model.predict(X)\n",
    "    error = mean_absolute_error(y_pred, y)\n",
    "    # Create a finely gridded line\n",
    "    x_fine = np.linspace(np.min(x), np.max(x), 50)\n",
    "    x_fine = np.array([x_fine]).T # Transform x_fine from N to Nx1\n",
    "    y_fine = model.predict(x_fine)\n",
    "    plt.plot(x_fine, y_fine, color=colors[i],\n",
    "    linestyle='--', linewidth=3,\n",
    "    label=f'{depth = } {error = :.2f}')\n",
    "    print(f'========== {depth = } ============')\n",
    "    text_representation = tree.export_text(model)\n",
    "    print(f\"text rep: {text_representation}\")\n",
    "plt.legend()\n"
   ]
  }
 ],
 "metadata": {
  "kernelspec": {
   "display_name": "base",
   "language": "python",
   "name": "python3"
  },
  "language_info": {
   "codemirror_mode": {
    "name": "ipython",
    "version": 3
   },
   "file_extension": ".py",
   "mimetype": "text/x-python",
   "name": "python",
   "nbconvert_exporter": "python",
   "pygments_lexer": "ipython3",
   "version": "3.9.12"
  },
  "orig_nbformat": 4
 },
 "nbformat": 4,
 "nbformat_minor": 2
}
