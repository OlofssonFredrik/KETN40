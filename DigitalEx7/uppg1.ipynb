{
 "cells": [
  {
   "cell_type": "code",
   "execution_count": null,
   "metadata": {},
   "outputs": [],
   "source": [
    "import numpy as np\n",
    "import matplotlib.pyplot as plt\n",
    "from sklearn import linear_model\n",
    "from PhysPropWater import rho\n"
   ]
  },
  {
   "cell_type": "code",
   "execution_count": null,
   "metadata": {},
   "outputs": [],
   "source": [
    "# Create two vectors\n",
    "x = rho[:,0]\n",
    "y = rho[:,1]\n",
    "# Make it 2D (Nx1)\n",
    "X = np.array([x]).T\n",
    "# Make a linear regression\n",
    "reg = linear_model.LinearRegression()\n",
    "reg.fit(X,y)\n",
    "# Print the coeficients\n",
    "print(reg.coef_)\n",
    "print(reg.intercept_)\n",
    "# Create a prediction x vector and predict y\n",
    "xpred = np.linspace(0,100)\n",
    "Xpred = np.array([xpred]).T # Make it 2D\n",
    "Ypred = reg.predict(Xpred)\n"
   ]
  },
  {
   "cell_type": "code",
   "execution_count": null,
   "metadata": {},
   "outputs": [],
   "source": [
    "# Plot data and model (pred)\n",
    "plt.plot(x, y, '.', label = 'data')\n",
    "plt.plot(xpred, Ypred, label='linear model')\n",
    "plt.xlabel('Temperature')\n",
    "plt.ylabel('Density')"
   ]
  }
 ],
 "metadata": {
  "language_info": {
   "name": "python"
  },
  "orig_nbformat": 4
 },
 "nbformat": 4,
 "nbformat_minor": 2
}
