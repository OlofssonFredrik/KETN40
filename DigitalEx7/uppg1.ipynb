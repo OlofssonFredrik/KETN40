{
 "cells": [
  {
   "cell_type": "code",
   "execution_count": 6,
   "metadata": {},
   "outputs": [
    {
     "name": "stdout",
     "output_type": "stream",
     "text": [
      "rho: [[   0.     5.    10.    20.    30.    40.    50.    60.    70.    80.\n",
      "    90.   100. ]\n",
      " [ 999.8 1000.   999.7  998.   996.   992.   988.   983.   977.   971.\n",
      "   965.   958. ]]\n"
     ]
    }
   ],
   "source": [
    "import numpy as np\n",
    "import matplotlib.pyplot as plt\n",
    "from sklearn import linear_model\n",
    "from PhysPropWater import rho\n"
   ]
  },
  {
   "cell_type": "code",
   "execution_count": 10,
   "metadata": {},
   "outputs": [
    {
     "name": "stdout",
     "output_type": "stream",
     "text": [
      "[-0.42040836]\n",
      "1005.068886728245\n"
     ]
    }
   ],
   "source": [
    "# Create two vectors\n",
    "x = rho[:,0]\n",
    "y = rho[:,1]\n",
    "# Make it 2D (Nx1)\n",
    "X = np.array([x]).T\n",
    "# Make a linear regression\n",
    "reg = linear_model.LinearRegression()\n",
    "reg.fit(X,y)\n",
    "# Print the coeficients\n",
    "print(reg.coef_)\n",
    "print(reg.intercept_)\n",
    "# Create a prediction x vector and predict y\n",
    "xpred = np.linspace(0,100)\n",
    "Xpred = np.array([xpred]).T # Make it 2D\n",
    "Ypred = reg.predict(Xpred)\n"
   ]
  },
  {
   "cell_type": "code",
   "execution_count": 11,
   "metadata": {},
   "outputs": [
    {
     "data": {
      "text/plain": [
       "<matplotlib.legend.Legend at 0x191f0c2fee0>"
      ]
     },
     "execution_count": 11,
     "metadata": {},
     "output_type": "execute_result"
    },
    {
     "data": {
      "image/png": "[encoded data removed]",
      "text/plain": [
       "<Figure size 432x288 with 1 Axes>"
      ]
     },
     "metadata": {
      "needs_background": "light"
     },
     "output_type": "display_data"
    },
    {
     "ename": "",
     "evalue": "",
     "output_type": "error",
     "traceback": [
      "\u001b[1;31mThe Kernel crashed while executing code in the the current cell or a previous cell. Please review the code in the cell(s) to identify a possible cause of the failure. Click <a href='https://aka.ms/vscodeJupyterKernelCrash'>here</a> for more info. View Jupyter <a href='command:jupyter.viewOutput'>log</a> for further details."
     ]
    }
   ],
   "source": [
    "# Plot data and model (pred)\n",
    "plt.plot(x, y, '.', label = 'data')\n",
    "plt.plot(xpred, Ypred, label='linear model')\n",
    "plt.xlabel('Temperature')\n",
    "plt.ylabel('Density')\n",
    "plt.legend()"
   ]
  }
 ],
 "metadata": {
  "kernelspec": {
   "display_name": "base",
   "language": "python",
   "name": "python3"
  },
  "language_info": {
   "codemirror_mode": {
    "name": "ipython",
    "version": 3
   },
   "file_extension": ".py",
   "mimetype": "text/x-python",
   "name": "python",
   "nbconvert_exporter": "python",
   "pygments_lexer": "ipython3",
   "version": "3.9.12"
  },
  "orig_nbformat": 4
 },
 "nbformat": 4,
 "nbformat_minor": 2
}
