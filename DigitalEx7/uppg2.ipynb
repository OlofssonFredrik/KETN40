{
 "cells": [
  {
   "cell_type": "code",
   "execution_count": null,
   "metadata": {},
   "outputs": [],
   "source": [
    "import matplotlib.pyplot as plt\n",
    "import numpy as np\n",
    "from sklearn import svm\n",
    "from sklearn.datasets import make_blobs"
   ]
  },
  {
   "cell_type": "code",
   "execution_count": null,
   "metadata": {},
   "outputs": [],
   "source": [
    "# We create 400 separable points\n",
    "X, y = make_blobs(n_samples=400, centers=2, random_state=6)\n",
    "# Fit the model\n",
    "model = svm.SVC(kernel=\"linear\", C=1)\n",
    "model.fit(X, y)\n",
    "print(f\"model.cfoef_ = {model.coef_}\")\n",
    "# Find the parameters and calculate the decision boundary line\n",
    "w1 = model.coef_[0,0]\n",
    "w2 = model.coef_[0,1]\n",
    "b = model.intercept_\n",
    "k = -w1/w2\n",
    "m = -b/w2\n",
    "x1 = X[:,0]\n",
    "x1min, x1max = np.min(x1), np.max(x1)\n",
    "x1_bnd = np.linspace(x1min, x1max)\n",
    "x2_bnd = x1_bnd*k + m"
   ]
  },
  {
   "cell_type": "code",
   "execution_count": null,
   "metadata": {},
   "outputs": [
    {
     "ename": "",
     "evalue": "",
     "output_type": "error",
     "traceback": [
      "\u001b[1;31mThe Kernel crashed while executing code in the the current cell or a previous cell. Please review the code in the cell(s) to identify a possible cause of the failure. Click <a href='https://aka.ms/vscodeJupyterKernelCrash'>here</a> for more info. View Jupyter <a href='command:jupyter.viewOutput'>log</a> for further details."
     ]
    }
   ],
   "source": [
    "fig, ax = plt.subplots()\n",
    "# Plot the point blobs\n",
    "ax.scatter(X[:, 0], X[:, 1],\n",
    "            c=y, # color\n",
    "            s=50) # size\n",
    "            #cmap=plt.cm.Paired)\n",
    "\n",
    "#print(f\"model.support_vectors_ = {model.support_vectors_}\")\n",
    "# Plot the support vectors\n",
    "for sv in model.support_vectors_:\n",
    "    print(f\"sv = {sv}\")\n",
    "    plt.plot(sv[0],sv[1],marker='+',markerfacecolor=\"none\",markeredgecolor='k')\n",
    "# Plot the decision boundary\n",
    "plt.plot(x1_bnd,x2_bnd,'--')\n",
    "plt.show()\n",
    "\n"
   ]
  }
 ],
 "metadata": {
  "kernelspec": {
   "display_name": "base",
   "language": "python",
   "name": "python3"
  },
  "language_info": {
   "codemirror_mode": {
    "name": "ipython",
    "version": 3
   },
   "file_extension": ".py",
   "mimetype": "text/x-python",
   "name": "python",
   "nbconvert_exporter": "python",
   "pygments_lexer": "ipython3",
   "version": "3.9.12"
  },
  "orig_nbformat": 4
 },
 "nbformat": 4,
 "nbformat_minor": 2
}
