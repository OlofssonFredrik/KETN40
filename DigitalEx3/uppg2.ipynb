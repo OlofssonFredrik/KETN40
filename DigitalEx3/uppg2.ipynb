{
 "cells": [
  {
   "cell_type": "code",
   "execution_count": 2,
   "metadata": {},
   "outputs": [],
   "source": [
    "#Load pickle\n",
    "\n",
    "import pickle\n",
    "from scipy.optimize import curve_fit\n",
    "import matplotlib.pyplot as plt\n",
    "import numpy as np\n",
    "from scipy.integrate import solve_ivp"
   ]
  },
  {
   "cell_type": "code",
   "execution_count": 3,
   "metadata": {},
   "outputs": [],
   "source": [
    "with open('TheoryEx3kindata.pickle', 'rb') as f:\n",
    "    data = pickle.load(f)\n",
    "\n",
    "c_0 = 4.05\n",
    "tdata = data['tdata']\n",
    "kindata = data['kindata']"
   ]
  },
  {
   "cell_type": "code",
   "execution_count": 4,
   "metadata": {},
   "outputs": [
    {
     "data": {
      "text/plain": [
       "<matplotlib.legend.Legend at 0x221ba34aa10>"
      ]
     },
     "execution_count": 4,
     "metadata": {},
     "output_type": "execute_result"
    },
    {
     "data": {
      "image/png": "[encoded data removed]",
      "text/plain": [
       "<Figure size 640x480 with 1 Axes>"
      ]
     },
     "metadata": {},
     "output_type": "display_data"
    }
   ],
   "source": [
    "plt.plot(tdata, kindata, 'o', label='Data')\n",
    "plt.xlabel('Time (days)')\n",
    "plt.ylabel('Concentration (mg/L)')\n",
    "plt.legend()\n"
   ]
  },
  {
   "cell_type": "code",
   "execution_count": 5,
   "metadata": {},
   "outputs": [
    {
     "name": "stdout",
     "output_type": "stream",
     "text": [
      "popt = [0.01868272]\n",
      "lsqe = 0.777461565289254\n"
     ]
    }
   ],
   "source": [
    "def model(t, c, k):\n",
    "    dcdt = -k * c\n",
    "    return dcdt\n",
    "    \n",
    "def fit_func(t, c_0, k):\n",
    "    sol = solve_ivp(lambda t,c: model(t,c,k), t_span=(t[0], t[-1]), y0=[c_0], t_eval=t )\n",
    "    return sol.y[0]\n",
    "\n",
    "def fit_model(time, conc, c_0, k_guess):\n",
    "    popt, pcov = curve_fit(lambda t,k : fit_func(t, c_0, k), time, conc, p0=[k_guess], )\n",
    "    return popt, pcov\n",
    "\n",
    "k = 0.1\n",
    "\n",
    "popt, pcov = fit_model(tdata, kindata, c_0, k)\n",
    "print(f\"popt = {popt}\")\n",
    "\n",
    "lsqe = np.sqrt(np.sum((kindata - fit_func(tdata, c_0, popt[0]))**2))\n",
    "print(f\"lsqe = {lsqe}\")\n"
   ]
  },
  {
   "cell_type": "code",
   "execution_count": 8,
   "metadata": {},
   "outputs": [
    {
     "name": "stdout",
     "output_type": "stream",
     "text": [
      "popt = [0.02580173 0.59713964]\n",
      "lsqe = 0.22613435798806367\n"
     ]
    },
    {
     "name": "stderr",
     "output_type": "stream",
     "text": [
      "C:\\Users\\olofs\\AppData\\Local\\Temp\\ipykernel_41524\\1635459340.py:2: RuntimeWarning: invalid value encountered in power\n",
      "  dcdt = -k * c**n\n"
     ]
    }
   ],
   "source": [
    "def model_2(t, c, k, n):\n",
    "    dcdt = -k * c**n\n",
    "    return dcdt\n",
    "\n",
    "def fit_func(t, c_0, k, n):\n",
    "    sol = solve_ivp(lambda t,c: model_2(t,c,k, n), t_span=(t[0], t[-1]), y0=[c_0], t_eval=t )\n",
    "    return sol.y[0]\n",
    "\n",
    "def fit_model(time, conc, c_0, k_guess, n):\n",
    "    popt, pcov = curve_fit(lambda t,k,n : fit_func(t, c_0, k, n), time, conc, p0=[k_guess, n], )\n",
    "    return popt, pcov\n",
    "\n",
    "n = 1\n",
    "popt, pcov = fit_model(tdata, kindata, c_0, k, n)\n",
    "print(f\"popt = {popt}\")\n",
    "\n",
    "lsqe = np.sqrt(np.sum((kindata - fit_func(tdata, c_0, popt[0], popt[1]))**2))\n",
    "print(f\"lsqe = {lsqe}\")\n"
   ]
  },
  {
   "cell_type": "code",
   "execution_count": 11,
   "metadata": {},
   "outputs": [
    {
     "ename": "TypeError",
     "evalue": "'numpy.ndarray' object is not callable",
     "output_type": "error",
     "traceback": [
      "\u001b[1;31m---------------------------------------------------------------------------\u001b[0m",
      "\u001b[1;31mTypeError\u001b[0m                                 Traceback (most recent call last)",
      "Cell \u001b[1;32mIn[11], line 14\u001b[0m\n\u001b[0;32m     11\u001b[0m     \u001b[39mreturn\u001b[39;00m popt, pcov\n\u001b[0;32m     13\u001b[0m k1, k2 \u001b[39m=\u001b[39m \u001b[39m0.1\u001b[39m, \u001b[39m0.1\u001b[39m\n\u001b[1;32m---> 14\u001b[0m popt, pcov \u001b[39m=\u001b[39m fit_model(tdata, kindata, c_0, k1, k2)\n\u001b[0;32m     15\u001b[0m \u001b[39mprint\u001b[39m(\u001b[39mf\u001b[39m\u001b[39m\"\u001b[39m\u001b[39mpopt = \u001b[39m\u001b[39m{\u001b[39;00mpopt\u001b[39m}\u001b[39;00m\u001b[39m\"\u001b[39m)\n\u001b[0;32m     17\u001b[0m lsqe \u001b[39m=\u001b[39m np\u001b[39m.\u001b[39msqrt(np\u001b[39m.\u001b[39msum((kindata \u001b[39m-\u001b[39m fit_func(tdata, c_0, popt[\u001b[39m0\u001b[39m], popt[\u001b[39m1\u001b[39m]))\u001b[39m*\u001b[39m\u001b[39m*\u001b[39m\u001b[39m2\u001b[39m))\n",
      "Cell \u001b[1;32mIn[11], line 10\u001b[0m, in \u001b[0;36mfit_model\u001b[1;34m(time, conc, c_0, k_guess1, k_guess2)\u001b[0m\n\u001b[0;32m      9\u001b[0m \u001b[39mdef\u001b[39;00m \u001b[39mfit_model\u001b[39m(time, conc, c_0, k_guess1, k_guess2):\n\u001b[1;32m---> 10\u001b[0m     popt, pcov \u001b[39m=\u001b[39m curve_fit(\u001b[39mlambda\u001b[39;49;00m t,k1,k2 : fit_func(t, c_0, k1,k2), time, conc, p0\u001b[39m=\u001b[39;49m[k_guess1, k_guess2], )\n\u001b[0;32m     11\u001b[0m     \u001b[39mreturn\u001b[39;00m popt, pcov\n",
      "File \u001b[1;32m~\\AppData\\Local\\Packages\\PythonSoftwareFoundation.Python.3.11_qbz5n2kfra8p0\\LocalCache\\local-packages\\Python311\\site-packages\\scipy\\optimize\\_minpack_py.py:859\u001b[0m, in \u001b[0;36mcurve_fit\u001b[1;34m(f, xdata, ydata, p0, sigma, absolute_sigma, check_finite, bounds, method, jac, full_output, **kwargs)\u001b[0m\n\u001b[0;32m    856\u001b[0m \u001b[39mif\u001b[39;00m ydata\u001b[39m.\u001b[39msize \u001b[39m!=\u001b[39m \u001b[39m1\u001b[39m \u001b[39mand\u001b[39;00m n \u001b[39m>\u001b[39m ydata\u001b[39m.\u001b[39msize:\n\u001b[0;32m    857\u001b[0m     \u001b[39mraise\u001b[39;00m \u001b[39mTypeError\u001b[39;00m(\u001b[39mf\u001b[39m\u001b[39m\"\u001b[39m\u001b[39mThe number of func parameters=\u001b[39m\u001b[39m{\u001b[39;00mn\u001b[39m}\u001b[39;00m\u001b[39m must not\u001b[39m\u001b[39m\"\u001b[39m\n\u001b[0;32m    858\u001b[0m                     \u001b[39mf\u001b[39m\u001b[39m\"\u001b[39m\u001b[39m exceed the number of data points=\u001b[39m\u001b[39m{\u001b[39;00mydata\u001b[39m.\u001b[39msize\u001b[39m}\u001b[39;00m\u001b[39m\"\u001b[39m)\n\u001b[1;32m--> 859\u001b[0m res \u001b[39m=\u001b[39m leastsq(func, p0, Dfun\u001b[39m=\u001b[39;49mjac, full_output\u001b[39m=\u001b[39;49m\u001b[39m1\u001b[39;49m, \u001b[39m*\u001b[39;49m\u001b[39m*\u001b[39;49mkwargs)\n\u001b[0;32m    860\u001b[0m popt, pcov, infodict, errmsg, ier \u001b[39m=\u001b[39m res\n\u001b[0;32m    861\u001b[0m ysize \u001b[39m=\u001b[39m \u001b[39mlen\u001b[39m(infodict[\u001b[39m'\u001b[39m\u001b[39mfvec\u001b[39m\u001b[39m'\u001b[39m])\n",
      "File \u001b[1;32m~\\AppData\\Local\\Packages\\PythonSoftwareFoundation.Python.3.11_qbz5n2kfra8p0\\LocalCache\\local-packages\\Python311\\site-packages\\scipy\\optimize\\_minpack_py.py:413\u001b[0m, in \u001b[0;36mleastsq\u001b[1;34m(func, x0, args, Dfun, full_output, col_deriv, ftol, xtol, gtol, maxfev, epsfcn, factor, diag)\u001b[0m\n\u001b[0;32m    411\u001b[0m \u001b[39mif\u001b[39;00m \u001b[39mnot\u001b[39;00m \u001b[39misinstance\u001b[39m(args, \u001b[39mtuple\u001b[39m):\n\u001b[0;32m    412\u001b[0m     args \u001b[39m=\u001b[39m (args,)\n\u001b[1;32m--> 413\u001b[0m shape, dtype \u001b[39m=\u001b[39m _check_func(\u001b[39m'\u001b[39;49m\u001b[39mleastsq\u001b[39;49m\u001b[39m'\u001b[39;49m, \u001b[39m'\u001b[39;49m\u001b[39mfunc\u001b[39;49m\u001b[39m'\u001b[39;49m, func, x0, args, n)\n\u001b[0;32m    414\u001b[0m m \u001b[39m=\u001b[39m shape[\u001b[39m0\u001b[39m]\n\u001b[0;32m    416\u001b[0m \u001b[39mif\u001b[39;00m n \u001b[39m>\u001b[39m m:\n",
      "File \u001b[1;32m~\\AppData\\Local\\Packages\\PythonSoftwareFoundation.Python.3.11_qbz5n2kfra8p0\\LocalCache\\local-packages\\Python311\\site-packages\\scipy\\optimize\\_minpack_py.py:26\u001b[0m, in \u001b[0;36m_check_func\u001b[1;34m(checker, argname, thefunc, x0, args, numinputs, output_shape)\u001b[0m\n\u001b[0;32m     24\u001b[0m \u001b[39mdef\u001b[39;00m \u001b[39m_check_func\u001b[39m(checker, argname, thefunc, x0, args, numinputs,\n\u001b[0;32m     25\u001b[0m                 output_shape\u001b[39m=\u001b[39m\u001b[39mNone\u001b[39;00m):\n\u001b[1;32m---> 26\u001b[0m     res \u001b[39m=\u001b[39m atleast_1d(thefunc(\u001b[39m*\u001b[39;49m((x0[:numinputs],) \u001b[39m+\u001b[39;49m args)))\n\u001b[0;32m     27\u001b[0m     \u001b[39mif\u001b[39;00m (output_shape \u001b[39mis\u001b[39;00m \u001b[39mnot\u001b[39;00m \u001b[39mNone\u001b[39;00m) \u001b[39mand\u001b[39;00m (shape(res) \u001b[39m!=\u001b[39m output_shape):\n\u001b[0;32m     28\u001b[0m         \u001b[39mif\u001b[39;00m (output_shape[\u001b[39m0\u001b[39m] \u001b[39m!=\u001b[39m \u001b[39m1\u001b[39m):\n",
      "File \u001b[1;32m~\\AppData\\Local\\Packages\\PythonSoftwareFoundation.Python.3.11_qbz5n2kfra8p0\\LocalCache\\local-packages\\Python311\\site-packages\\scipy\\optimize\\_minpack_py.py:501\u001b[0m, in \u001b[0;36m_wrap_func.<locals>.func_wrapped\u001b[1;34m(params)\u001b[0m\n\u001b[0;32m    500\u001b[0m \u001b[39mdef\u001b[39;00m \u001b[39mfunc_wrapped\u001b[39m(params):\n\u001b[1;32m--> 501\u001b[0m     \u001b[39mreturn\u001b[39;00m func(xdata, \u001b[39m*\u001b[39;49mparams) \u001b[39m-\u001b[39m ydata\n",
      "Cell \u001b[1;32mIn[11], line 10\u001b[0m, in \u001b[0;36mfit_model.<locals>.<lambda>\u001b[1;34m(t, k1, k2)\u001b[0m\n\u001b[0;32m      9\u001b[0m \u001b[39mdef\u001b[39;00m \u001b[39mfit_model\u001b[39m(time, conc, c_0, k_guess1, k_guess2):\n\u001b[1;32m---> 10\u001b[0m     popt, pcov \u001b[39m=\u001b[39m curve_fit(\u001b[39mlambda\u001b[39;00m t,k1,k2 : fit_func(t, c_0, k1,k2), time, conc, p0\u001b[39m=\u001b[39m[k_guess1, k_guess2], )\n\u001b[0;32m     11\u001b[0m     \u001b[39mreturn\u001b[39;00m popt, pcov\n",
      "Cell \u001b[1;32mIn[11], line 6\u001b[0m, in \u001b[0;36mfit_func\u001b[1;34m(t, c_0, k1, k2)\u001b[0m\n\u001b[0;32m      5\u001b[0m \u001b[39mdef\u001b[39;00m \u001b[39mfit_func\u001b[39m(t, c_0, k1, k2):\n\u001b[1;32m----> 6\u001b[0m     sol \u001b[39m=\u001b[39m solve_ivp(\u001b[39mlambda\u001b[39;49;00m t,c: model_3(t,c,k1,k2), t_span\u001b[39m=\u001b[39;49m(t[\u001b[39m0\u001b[39;49m], t[\u001b[39m-\u001b[39;49m\u001b[39m1\u001b[39;49m]), y0\u001b[39m=\u001b[39;49m[c_0], t_eval\u001b[39m=\u001b[39;49mt )\n\u001b[0;32m      7\u001b[0m     \u001b[39mreturn\u001b[39;00m sol\u001b[39m.\u001b[39my[\u001b[39m0\u001b[39m]\n",
      "File \u001b[1;32m~\\AppData\\Local\\Packages\\PythonSoftwareFoundation.Python.3.11_qbz5n2kfra8p0\\LocalCache\\local-packages\\Python311\\site-packages\\scipy\\integrate\\_ivp\\ivp.py:557\u001b[0m, in \u001b[0;36msolve_ivp\u001b[1;34m(fun, t_span, y0, method, t_eval, dense_output, events, vectorized, args, **options)\u001b[0m\n\u001b[0;32m    554\u001b[0m \u001b[39mif\u001b[39;00m method \u001b[39min\u001b[39;00m METHODS:\n\u001b[0;32m    555\u001b[0m     method \u001b[39m=\u001b[39m METHODS[method]\n\u001b[1;32m--> 557\u001b[0m solver \u001b[39m=\u001b[39m method(fun, t0, y0, tf, vectorized\u001b[39m=\u001b[39;49mvectorized, \u001b[39m*\u001b[39;49m\u001b[39m*\u001b[39;49moptions)\n\u001b[0;32m    559\u001b[0m \u001b[39mif\u001b[39;00m t_eval \u001b[39mis\u001b[39;00m \u001b[39mNone\u001b[39;00m:\n\u001b[0;32m    560\u001b[0m     ts \u001b[39m=\u001b[39m [t0]\n",
      "File \u001b[1;32m~\\AppData\\Local\\Packages\\PythonSoftwareFoundation.Python.3.11_qbz5n2kfra8p0\\LocalCache\\local-packages\\Python311\\site-packages\\scipy\\integrate\\_ivp\\rk.py:94\u001b[0m, in \u001b[0;36mRungeKutta.__init__\u001b[1;34m(self, fun, t0, y0, t_bound, max_step, rtol, atol, vectorized, first_step, **extraneous)\u001b[0m\n\u001b[0;32m     92\u001b[0m \u001b[39mself\u001b[39m\u001b[39m.\u001b[39mmax_step \u001b[39m=\u001b[39m validate_max_step(max_step)\n\u001b[0;32m     93\u001b[0m \u001b[39mself\u001b[39m\u001b[39m.\u001b[39mrtol, \u001b[39mself\u001b[39m\u001b[39m.\u001b[39matol \u001b[39m=\u001b[39m validate_tol(rtol, atol, \u001b[39mself\u001b[39m\u001b[39m.\u001b[39mn)\n\u001b[1;32m---> 94\u001b[0m \u001b[39mself\u001b[39m\u001b[39m.\u001b[39mf \u001b[39m=\u001b[39m \u001b[39mself\u001b[39;49m\u001b[39m.\u001b[39;49mfun(\u001b[39mself\u001b[39;49m\u001b[39m.\u001b[39;49mt, \u001b[39mself\u001b[39;49m\u001b[39m.\u001b[39;49my)\n\u001b[0;32m     95\u001b[0m \u001b[39mif\u001b[39;00m first_step \u001b[39mis\u001b[39;00m \u001b[39mNone\u001b[39;00m:\n\u001b[0;32m     96\u001b[0m     \u001b[39mself\u001b[39m\u001b[39m.\u001b[39mh_abs \u001b[39m=\u001b[39m select_initial_step(\n\u001b[0;32m     97\u001b[0m         \u001b[39mself\u001b[39m\u001b[39m.\u001b[39mfun, \u001b[39mself\u001b[39m\u001b[39m.\u001b[39mt, \u001b[39mself\u001b[39m\u001b[39m.\u001b[39my, \u001b[39mself\u001b[39m\u001b[39m.\u001b[39mf, \u001b[39mself\u001b[39m\u001b[39m.\u001b[39mdirection,\n\u001b[0;32m     98\u001b[0m         \u001b[39mself\u001b[39m\u001b[39m.\u001b[39merror_estimator_order, \u001b[39mself\u001b[39m\u001b[39m.\u001b[39mrtol, \u001b[39mself\u001b[39m\u001b[39m.\u001b[39matol)\n",
      "File \u001b[1;32m~\\AppData\\Local\\Packages\\PythonSoftwareFoundation.Python.3.11_qbz5n2kfra8p0\\LocalCache\\local-packages\\Python311\\site-packages\\scipy\\integrate\\_ivp\\base.py:138\u001b[0m, in \u001b[0;36mOdeSolver.__init__.<locals>.fun\u001b[1;34m(t, y)\u001b[0m\n\u001b[0;32m    136\u001b[0m \u001b[39mdef\u001b[39;00m \u001b[39mfun\u001b[39m(t, y):\n\u001b[0;32m    137\u001b[0m     \u001b[39mself\u001b[39m\u001b[39m.\u001b[39mnfev \u001b[39m+\u001b[39m\u001b[39m=\u001b[39m \u001b[39m1\u001b[39m\n\u001b[1;32m--> 138\u001b[0m     \u001b[39mreturn\u001b[39;00m \u001b[39mself\u001b[39;49m\u001b[39m.\u001b[39;49mfun_single(t, y)\n",
      "File \u001b[1;32m~\\AppData\\Local\\Packages\\PythonSoftwareFoundation.Python.3.11_qbz5n2kfra8p0\\LocalCache\\local-packages\\Python311\\site-packages\\scipy\\integrate\\_ivp\\base.py:20\u001b[0m, in \u001b[0;36mcheck_arguments.<locals>.fun_wrapped\u001b[1;34m(t, y)\u001b[0m\n\u001b[0;32m     19\u001b[0m \u001b[39mdef\u001b[39;00m \u001b[39mfun_wrapped\u001b[39m(t, y):\n\u001b[1;32m---> 20\u001b[0m     \u001b[39mreturn\u001b[39;00m np\u001b[39m.\u001b[39masarray(fun(t, y), dtype\u001b[39m=\u001b[39mdtype)\n",
      "Cell \u001b[1;32mIn[11], line 6\u001b[0m, in \u001b[0;36mfit_func.<locals>.<lambda>\u001b[1;34m(t, c)\u001b[0m\n\u001b[0;32m      5\u001b[0m \u001b[39mdef\u001b[39;00m \u001b[39mfit_func\u001b[39m(t, c_0, k1, k2):\n\u001b[1;32m----> 6\u001b[0m     sol \u001b[39m=\u001b[39m solve_ivp(\u001b[39mlambda\u001b[39;00m t,c: model_3(t,c,k1,k2), t_span\u001b[39m=\u001b[39m(t[\u001b[39m0\u001b[39m], t[\u001b[39m-\u001b[39m\u001b[39m1\u001b[39m]), y0\u001b[39m=\u001b[39m[c_0], t_eval\u001b[39m=\u001b[39mt )\n\u001b[0;32m      7\u001b[0m     \u001b[39mreturn\u001b[39;00m sol\u001b[39m.\u001b[39my[\u001b[39m0\u001b[39m]\n",
      "Cell \u001b[1;32mIn[11], line 2\u001b[0m, in \u001b[0;36mmodel_3\u001b[1;34m(t, c, k1, k2)\u001b[0m\n\u001b[0;32m      1\u001b[0m \u001b[39mdef\u001b[39;00m \u001b[39mmodel_3\u001b[39m(t, c, k1, k2):\n\u001b[1;32m----> 2\u001b[0m     dcdt \u001b[39m=\u001b[39m \u001b[39m-\u001b[39mk1\u001b[39m*\u001b[39mc(k2\u001b[39m+\u001b[39;49mc)\n\u001b[0;32m      3\u001b[0m     \u001b[39mreturn\u001b[39;00m dcdt\n",
      "\u001b[1;31mTypeError\u001b[0m: 'numpy.ndarray' object is not callable"
     ]
    }
   ],
   "source": [
    "def model_3(t, c, k1, k2):\n",
    "    dcdt = -k1*c(k2+c)\n",
    "    return dcdt\n",
    "    \n",
    "def fit_func(t, c_0, k1, k2):\n",
    "    sol = solve_ivp(lambda t,c: model_3(t,c,k1,k2), t_span=(t[0], t[-1]), y0=[c_0], t_eval=t )\n",
    "    return sol.y[0]\n",
    "\n",
    "def fit_model(time, conc, c_0, k_guess1, k_guess2):\n",
    "    popt, pcov = curve_fit(lambda t,k1,k2 : fit_func(t, c_0, k1,k2), time, conc, p0=[k_guess1, k_guess2], )\n",
    "    return popt, pcov\n",
    "\n",
    "k1, k2 = 0.1, 0.1\n",
    "popt, pcov = fit_model(tdata, kindata, c_0, k1, k2)\n",
    "print(f\"popt = {popt}\")\n",
    "\n",
    "lsqe = np.sqrt(np.sum((kindata - fit_func(tdata, c_0, popt[0], popt[1]))**2))\n",
    "print(f\"lsqe = {lsqe}\")"
   ]
  }
 ],
 "metadata": {
  "kernelspec": {
   "display_name": "Python 3",
   "language": "python",
   "name": "python3"
  },
  "language_info": {
   "codemirror_mode": {
    "name": "ipython",
    "version": 3
   },
   "file_extension": ".py",
   "mimetype": "text/x-python",
   "name": "python",
   "nbconvert_exporter": "python",
   "pygments_lexer": "ipython3",
   "version": "3.11.5"
  },
  "orig_nbformat": 4
 },
 "nbformat": 4,
 "nbformat_minor": 2
}
