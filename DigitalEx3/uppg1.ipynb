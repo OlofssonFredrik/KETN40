{
 "cells": [
  {
   "cell_type": "code",
   "execution_count": 1,
   "metadata": {},
   "outputs": [],
   "source": [
    "#Load pickle\n",
    "\n",
    "import pickle\n",
    "from scipy.optimize import curve_fit\n",
    "import matplotlib.pyplot as plt\n",
    "import numpy as np\n",
    "from scipy.integrate import solve_ivp"
   ]
  },
  {
   "cell_type": "code",
   "execution_count": 2,
   "metadata": {},
   "outputs": [
    {
     "name": "stdout",
     "output_type": "stream",
     "text": [
      "data: {'data1': {'time': array([ 0,  1,  2,  3,  4,  5,  6,  7,  8,  9, 10, 11, 12, 13, 14, 15, 16,\n",
      "       17, 18, 19, 20]), 'conc': array([2.2       , 1.71291325, 1.33353908, 1.03808545, 0.80797303,\n",
      "       0.62893919, 0.48961121, 0.38112818, 0.29664189, 0.23090987,\n",
      "       0.17975665, 0.13992836, 0.10890994, 0.08477664, 0.06599614,\n",
      "       0.05137365, 0.0399855 , 0.03112504, 0.02422992, 0.01886161,\n",
      "       0.01468345])}, 'data2': {'time': array([ 0,  1,  2,  3,  4,  5,  6,  7,  8,  9, 10, 11, 12, 13, 14, 15, 16,\n",
      "       17, 18, 19, 20]), 'conc': array([2.25376671, 1.89630175, 1.1076544 , 1.12430278, 0.83984956,\n",
      "       0.49817036, 0.44625201, 0.41539063, 0.65448159, 0.50785358,\n",
      "       0.04476796, 0.44342071, 0.18145036, 0.07847115, 0.13747043,\n",
      "       0.03087704, 0.02757107, 0.1800948 , 0.16513337, 0.16058085,\n",
      "       0.08183316])}}\n"
     ]
    },
    {
     "data": {
      "text/plain": [
       "(array([ 0,  1,  2,  3,  4,  5,  6,  7,  8,  9, 10, 11, 12, 13, 14, 15, 16,\n",
       "        17, 18, 19, 20]),\n",
       " array([2.2       , 1.71291325, 1.33353908, 1.03808545, 0.80797303,\n",
       "        0.62893919, 0.48961121, 0.38112818, 0.29664189, 0.23090987,\n",
       "        0.17975665, 0.13992836, 0.10890994, 0.08477664, 0.06599614,\n",
       "        0.05137365, 0.0399855 , 0.03112504, 0.02422992, 0.01886161,\n",
       "        0.01468345]))"
      ]
     },
     "execution_count": 2,
     "metadata": {},
     "output_type": "execute_result"
    }
   ],
   "source": [
    "with open('Prob3Data.pickle', 'rb') as f:\n",
    "    data = pickle.load(f)\n",
    "\n",
    "print(f\"data: {data}\")\n",
    "\n",
    "time = data['data1']['time']\n",
    "conc = data['data1']['conc']\n",
    "\n",
    "time, conc"
   ]
  },
  {
   "cell_type": "code",
   "execution_count": 3,
   "metadata": {},
   "outputs": [
    {
     "data": {
      "text/plain": [
       "(array([ 0,  1,  2,  3,  4,  5,  6,  7,  8,  9, 10, 11, 12, 13, 14, 15, 16,\n",
       "        17, 18, 19, 20]),\n",
       " array([2.25376671, 1.89630175, 1.1076544 , 1.12430278, 0.83984956,\n",
       "        0.49817036, 0.44625201, 0.41539063, 0.65448159, 0.50785358,\n",
       "        0.04476796, 0.44342071, 0.18145036, 0.07847115, 0.13747043,\n",
       "        0.03087704, 0.02757107, 0.1800948 , 0.16513337, 0.16058085,\n",
       "        0.08183316]))"
      ]
     },
     "execution_count": 3,
     "metadata": {},
     "output_type": "execute_result"
    }
   ],
   "source": [
    "time_2 = data['data2']['time']\n",
    "conc_2 = data['data2']['conc']\n",
    "\n",
    "time_2, conc_2"
   ]
  },
  {
   "cell_type": "code",
   "execution_count": 4,
   "metadata": {},
   "outputs": [
    {
     "data": {
      "text/plain": [
       "<matplotlib.legend.Legend at 0x1a641b94590>"
      ]
     },
     "execution_count": 4,
     "metadata": {},
     "output_type": "execute_result"
    },
    {
     "data": {
      "image/png": "[encoded data removed]",
      "text/plain": [
       "<Figure size 640x480 with 1 Axes>"
      ]
     },
     "metadata": {},
     "output_type": "display_data"
    }
   ],
   "source": [
    "plt.plot(time, conc, 'o', label='data1')\n",
    "plt.plot(time_2, conc_2, 'o', label='data2')\n",
    "plt.xlabel('time')\n",
    "plt.ylabel('conc')\n",
    "plt.legend()"
   ]
  },
  {
   "cell_type": "code",
   "execution_count": 13,
   "metadata": {},
   "outputs": [
    {
     "name": "stdout",
     "output_type": "stream",
     "text": [
      "popt: [0.2504184]\n",
      "least_square_error: 2.420244927408832\n",
      "popt2: [0.18454089]\n",
      "least_square_error2: 2.242896584431635\n"
     ]
    }
   ],
   "source": [
    "def model(t, c, k):\n",
    "    dcdt = -k * c\n",
    "    return dcdt\n",
    "\n",
    "def fit_func(t, c_0, k):\n",
    "    sol = solve_ivp(lambda t,c: model(t,c,k), t_span=(t[0], t[-1]), y0=[c_0], t_eval=t )\n",
    "    return sol.y[0]\n",
    "\n",
    "def fit_model(time, conc, c_0, k_guess):\n",
    "    popt, pcov = curve_fit(lambda t,k : fit_func(t, c_0, k), time, conc, p0=[k_guess], )\n",
    "    return popt, pcov"
   ]
  },
  {
   "cell_type": "code",
   "execution_count": 14,
   "metadata": {},
   "outputs": [
    {
     "name": "stdout",
     "output_type": "stream",
     "text": [
      "popt: [0.2504184]\n",
      "least_square_error: 2.420244927408832\n",
      "popt2: [0.18454089]\n",
      "least_square_error2: 2.242896584431635\n"
     ]
    }
   ],
   "source": [
    "k = 0.1\n",
    "c_01 = 2.2\n",
    "\n",
    "popt, pcov = fit_model(time, conc, c_01, k)\n",
    "print(f\"popt: {popt}\")\n",
    "\n",
    "least_square_error = np.sqrt(sum((conc - fit_func(time, c_01, k))**2))\n",
    "\n",
    "print(f\"least_square_error: {least_square_error}\")\n",
    "\n",
    "c_02 = 1.8\n",
    "popt2, pcov2 = fit_model(time_2, conc_2, c_02, k)\n",
    "\n",
    "print(f\"popt2: {popt2}\")\n",
    "\n",
    "least_square_error2 = np.sqrt(sum((conc_2 - fit_func(time_2, c_01, k))**2))\n",
    "\n",
    "print(f\"least_square_error2: {least_square_error2}\")"
   ]
  }
 ],
 "metadata": {
  "kernelspec": {
   "display_name": "Python 3",
   "language": "python",
   "name": "python3"
  },
  "language_info": {
   "codemirror_mode": {
    "name": "ipython",
    "version": 3
   },
   "file_extension": ".py",
   "mimetype": "text/x-python",
   "name": "python",
   "nbconvert_exporter": "python",
   "pygments_lexer": "ipython3",
   "version": "3.11.5"
  },
  "orig_nbformat": 4
 },
 "nbformat": 4,
 "nbformat_minor": 2
}
