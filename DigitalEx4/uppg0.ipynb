{
 "cells": [
  {
   "cell_type": "code",
   "execution_count": 73,
   "metadata": {},
   "outputs": [],
   "source": [
    "#Imports\n",
    "from scipy.optimize import minimize"
   ]
  },
  {
   "cell_type": "code",
   "execution_count": 74,
   "metadata": {},
   "outputs": [],
   "source": [
    "Cinlet = 20 #mole/L\n",
    "Vtot = 20 #m3\n",
    "q = 0.03 #m3/s\n",
    "n = 2.4\n",
    "k = 0.0062 #(mole/l)**-n/s\n",
    "V2 = 10\n",
    "V1 = Vtot - V2"
   ]
  },
  {
   "cell_type": "code",
   "execution_count": 75,
   "metadata": {},
   "outputs": [
    {
     "data": {
      "text/plain": [
       "\"\\ndescision_variables = [V1, V2]\\n\\nconstraints = ({'type': 'eq', 'fun': lambda x: x[0] + x[1] - Vtot})\\n\\nsol = minimize(obj_func, descision_variables, constraints=constraints)\\n\""
      ]
     },
     "execution_count": 75,
     "metadata": {},
     "output_type": "execute_result"
    }
   ],
   "source": [
    "def obj_func(Cin, Coutlet):\n",
    "    return -Coutlet/Cin\n",
    "\"\"\"\n",
    "descision_variables = [V1, V2]\n",
    "\n",
    "constraints = ({'type': 'eq', 'fun': lambda x: x[0] + x[1] - Vtot})\n",
    "\n",
    "sol = minimize(obj_func, descision_variables, constraints=constraints)\n",
    "\"\"\""
   ]
  },
  {
   "cell_type": "code",
   "execution_count": 76,
   "metadata": {},
   "outputs": [],
   "source": [
    "\n",
    "import matplotlib.pyplot as plt\n",
    "import numpy as np\n",
    "from scipy.optimize import minimize, fsolve\n",
    "from scipy.integrate import solve_ivp\n",
    "def cstrobjective(V,params):\n",
    "    # decision varaiables, V(1:N-1)\n",
    "    params['V'] = np.hstack(( V, params['Vtot']-np.sum(V) ))\n",
    "    cout = cstrsolve(params)\n",
    "    # maximze conversion\n",
    "    conv = 1-cout/params['c0']\n",
    "    # objective: minimize 1-conversion\n",
    "    obj = 1-conv\n",
    "    return obj\n",
    "def cstrsolve(params):\n",
    "    # solve for steady-state\n",
    "    cinit = 0.5*params['c0']*np.ones(params['V'].shape)\n",
    "    #print(f\"cinit: {cinit}\")\n",
    "    cstat = fsolve(lambda c: cstrmodel(0,c,params), cinit)\n",
    "    print(f\"cstat: {cstat}\")\n",
    "    # outlet conc.\n",
    "    cout = cstat[-1]\n",
    "    return cout\n",
    "def cstrmodel(t,c,params):\n",
    "    # reaction rate\n",
    "    r = params['k']*c**params['n']\n",
    "    #print(f\"r: {r}\")\n",
    "    # material balances\n",
    "    cm1 = np.hstack(( params['c0'],c[:-1] ))\n",
    "    #print(f\"cm1: {cm1}\")\n",
    "    dcdt = params['q']/params['V']*(cm1 - c) - r    \n",
    "    #print(f\"dcdt: {dcdt}\")\n",
    "    return dcdt\n",
    "params = {}\n",
    "#number of cstr\n",
    "params['N'] = 2\n",
    "# total cstr series volume\n",
    "params['Vtot']=20\n",
    "# model paramsameters\n",
    "params['c0'] = 20\n",
    "params['n'] = 2.4\n",
    "params['k'] = 0.0062\n",
    "params['q'] = 0.03\n",
    "Vguess = 10"
   ]
  },
  {
   "cell_type": "code",
   "execution_count": 77,
   "metadata": {},
   "outputs": [
    {
     "name": "stdout",
     "output_type": "stream",
     "text": [
      "==== Nelder-Mead ====\n",
      "cstat: [2.43893472 0.88740306]\n",
      "cstat: [2.39248543 0.89362116]\n",
      "cstat: [2.48867798 0.88223728]\n",
      "cstat: [2.5421385  0.87809634]\n",
      "cstat: [2.66233428 0.87286471]\n",
      "cstat: [2.80498697 0.87184196]\n",
      "cstat: [3.19632954 0.88488016]\n",
      "cstat: [2.66233428 0.87286471]\n",
      "cstat: [2.97845177 0.87551151]\n",
      "cstat: [2.73041848 0.87180653]\n",
      "cstat: [2.66233428 0.87286471]\n",
      "cstat: [2.76682699 0.87168371]\n",
      "cstat: [2.80498697 0.87184196]\n",
      "cstat: [2.74841252 0.87171052]\n",
      "cstat: [2.78567906 0.87172713]\n",
      "cstat: [2.75756615 0.8716884 ]\n",
      "cstat: [2.77619721 0.87169657]\n",
      "cstat: [2.76218303 0.87168387]\n",
      "cstat: [2.77149829 0.87168794]\n",
      "cstat: [2.76450161 0.87168324]\n",
      "cstat: [2.76218303 0.87168387]\n",
      "cstat: [2.76566344 0.87168334]\n",
      "cstat: [2.76334147 0.87168342]\n",
      "cstat: [2.76508231 0.87168326]\n",
      "cstat: [2.76392133 0.8716833 ]\n",
      "cstat: [2.76479191 0.87168324]\n",
      "cstat: [2.76508231 0.87168326]\n",
      "cstat: [2.76464674 0.87168324]\n",
      "cstat: [2.76450161 0.87168324]\n",
      "cstat: [2.76471932 0.87168324]\n",
      "cstat: [2.76457417 0.87168324]\n",
      "cstat: [2.76468303 0.87168324]\n",
      "cstat: [2.76471932 0.87168324]\n",
      "cstat: [2.76466489 0.87168324]\n",
      "cstat: [2.76470118 0.87168324]\n",
      "cstat: [2.76467396 0.87168324]\n",
      "Optimization terminated successfully.\n",
      "         Current function value: 0.043584\n",
      "         Iterations: 18\n",
      "         Function evaluations: 36\n",
      "Nelder-Mead - x: [7.26446533]\n"
     ]
    },
    {
     "name": "stderr",
     "output_type": "stream",
     "text": [
      "C:\\Users\\olofs\\AppData\\Local\\Temp\\ipykernel_20184\\1318303029.py:25: RuntimeWarning: invalid value encountered in power\n",
      "  r = params['k']*c**params['n']\n"
     ]
    }
   ],
   "source": [
    "#Unconstraint optimizaiton\n",
    "# optimization using Nelder-Mead\n",
    "print('==== Nelder-Mead ====')\n",
    "optim1 = {'disp':True}\n",
    "res1 = minimize(lambda V: cstrobjective(V,params), Vguess, method='Nelder-Mead', options=optim1)\n",
    "Vf1 = res1['x']\n",
    "print(f'Nelder-Mead - x: {res1[\"x\"]}')"
   ]
  },
  {
   "cell_type": "code",
   "execution_count": 78,
   "metadata": {},
   "outputs": [
    {
     "name": "stdout",
     "output_type": "stream",
     "text": [
      "==== BFGS ====\n",
      "cstat: [2.43893472 0.88740306]\n",
      "cstat: [2.43893472 0.88740306]\n",
      "cstat: [2.43898934 0.88739659]\n",
      "cstat: [2.43898934 0.88739659]\n",
      "cstat: [2.43920788 0.88737074]\n",
      "cstat: [2.43920787 0.88737074]\n",
      "cstat: [2.44008269 0.88726757]\n",
      "cstat: [2.44008269 0.88726757]\n",
      "cstat: [2.4435929  0.88685836]\n",
      "cstat: [2.4435929  0.88685836]\n",
      "cstat: [2.45781147 0.88527685]\n",
      "cstat: [2.45781147 0.88527685]\n",
      "cstat: [2.51771198 0.87982478]\n",
      "cstat: [2.51771198 0.87982478]\n",
      "cstat: [2.7518704 0.8717001]\n",
      "cstat: [2.7518704 0.8717001]\n",
      "cstat: [2.76561972 0.87168333]\n",
      "cstat: [2.76561971 0.87168333]\n",
      "Optimization terminated successfully.\n",
      "         Current function value: 0.043584\n",
      "         Iterations: 3\n",
      "         Function evaluations: 18\n",
      "         Gradient evaluations: 9\n",
      "BFGS - x: [7.25810633]\n"
     ]
    },
    {
     "name": "stderr",
     "output_type": "stream",
     "text": [
      "C:\\Users\\olofs\\AppData\\Local\\Temp\\ipykernel_20184\\1318303029.py:25: RuntimeWarning: invalid value encountered in power\n",
      "  r = params['k']*c**params['n']\n"
     ]
    }
   ],
   "source": [
    "# optimization using BFGS\n",
    "print('==== BFGS ====')\n",
    "optim2 = {'disp':True}\n",
    "res2 = minimize(lambda V: cstrobjective(V,params), Vguess, method='BFGS', options=optim2)\n",
    "Vf2 = res2['x']\n",
    "print(f'BFGS - x: {res2[\"x\"]}')"
   ]
  }
 ],
 "metadata": {
  "kernelspec": {
   "display_name": "Python 3",
   "language": "python",
   "name": "python3"
  },
  "language_info": {
   "codemirror_mode": {
    "name": "ipython",
    "version": 3
   },
   "file_extension": ".py",
   "mimetype": "text/x-python",
   "name": "python",
   "nbconvert_exporter": "python",
   "pygments_lexer": "ipython3",
   "version": "3.11.5"
  },
  "orig_nbformat": 4
 },
 "nbformat": 4,
 "nbformat_minor": 2
}
