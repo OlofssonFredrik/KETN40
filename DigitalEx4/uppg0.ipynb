{
 "cells": [
  {
   "cell_type": "code",
   "execution_count": null,
   "metadata": {},
   "outputs": [],
   "source": [
    "#Imports\n",
    "from scipy.optimize import minimize"
   ]
  },
  {
   "cell_type": "code",
   "execution_count": null,
   "metadata": {},
   "outputs": [],
   "source": [
    "Cinlet = 20 #mole/L\n",
    "Vtot = 20 #m3\n",
    "q = 0.03 #m3/s\n",
    "n = 2.4\n",
    "k = 0.0062 #(mole/l)**-n/s\n",
    "V2 = 10\n",
    "V1 = Vtot - V2"
   ]
  },
  {
   "cell_type": "code",
   "execution_count": null,
   "metadata": {},
   "outputs": [],
   "source": [
    "def obj_func(Cin, Coutlet):\n",
    "    return -Coutlet/Cin\n",
    "\"\"\"\n",
    "descision_variables = [V1, V2]\n",
    "\n",
    "constraints = ({'type': 'eq', 'fun': lambda x: x[0] + x[1] - Vtot})\n",
    "\n",
    "sol = minimize(obj_func, descision_variables, constraints=constraints)\n",
    "\"\"\""
   ]
  },
  {
   "cell_type": "code",
   "execution_count": null,
   "metadata": {},
   "outputs": [],
   "source": [
    "\n",
    "import matplotlib.pyplot as plt\n",
    "import numpy as np\n",
    "from scipy.optimize import minimize, fsolve\n",
    "from scipy.integrate import solve_ivp\n",
    "def cstrobjective(V,params):\n",
    "    # decision varaiables, V(1:N-1)\n",
    "    params['V'] = np.hstack(( V, params['Vtot']-np.sum(V) ))\n",
    "    cout = cstrsolve(params)\n",
    "    # maximze conversion\n",
    "    conv = 1-cout/params['c0']\n",
    "    # objective: minimize 1-conversion\n",
    "    obj = 1-conv\n",
    "    return obj\n",
    "def cstrsolve(params):\n",
    "    # solve for steady-state\n",
    "    cinit = 0.5*params['c0']*np.ones(params['V'].shape)\n",
    "    #print(f\"cinit: {cinit}\")\n",
    "    cstat = fsolve(lambda c: cstrmodel(0,c,params), cinit)\n",
    "    print(f\"cstat: {cstat}\")\n",
    "    # outlet conc.\n",
    "    cout = cstat[-1]\n",
    "    return cout\n",
    "def cstrmodel(t,c,params):\n",
    "    # reaction rate\n",
    "    r = params['k']*c**params['n']\n",
    "    #print(f\"r: {r}\")\n",
    "    # material balances\n",
    "    cm1 = np.hstack(( params['c0'],c[:-1] ))\n",
    "    #print(f\"cm1: {cm1}\")\n",
    "    dcdt = params['q']/params['V']*(cm1 - c) - r    \n",
    "    #print(f\"dcdt: {dcdt}\")\n",
    "    return dcdt\n",
    "params = {}\n",
    "#number of cstr\n",
    "params['N'] = 2\n",
    "# total cstr series volume\n",
    "params['Vtot']=20\n",
    "# model paramsameters\n",
    "params['c0'] = 20\n",
    "params['n'] = 2.4\n",
    "params['k'] = 0.0062\n",
    "params['q'] = 0.03\n",
    "Vguess = 10"
   ]
  },
  {
   "cell_type": "code",
   "execution_count": null,
   "metadata": {},
   "outputs": [],
   "source": [
    "#Unconstraint optimizaiton\n",
    "# optimization using Nelder-Mead\n",
    "print('==== Nelder-Mead ====')\n",
    "optim1 = {'disp':True}\n",
    "res1 = minimize(lambda V: cstrobjective(V,params), Vguess, method='Nelder-Mead', options=optim1)\n",
    "Vf1 = res1['x']\n",
    "print(f'Nelder-Mead - x: {res1[\"x\"]}')"
   ]
  },
  {
   "cell_type": "code",
   "execution_count": null,
   "metadata": {},
   "outputs": [],
   "source": [
    "# optimization using BFGS\n",
    "print('==== BFGS ====')\n",
    "optim2 = {'disp':True}\n",
    "res2 = minimize(lambda V: cstrobjective(V,params), Vguess, method='BFGS', options=optim2)\n",
    "Vf2 = res2['x']\n",
    "print(f'BFGS - x: {res2[\"x\"]}')"
   ]
  }
 ],
 "metadata": {
  "kernelspec": {
   "display_name": "Python 3",
   "language": "python",
   "name": "python3"
  },
  "language_info": {
   "codemirror_mode": {
    "name": "ipython",
    "version": 3
   },
   "file_extension": ".py",
   "mimetype": "text/x-python",
   "name": "python",
   "nbconvert_exporter": "python",
   "pygments_lexer": "ipython3",
   "version": "3.11.5"
  },
  "orig_nbformat": 4
 },
 "nbformat": 4,
 "nbformat_minor": 2
}
