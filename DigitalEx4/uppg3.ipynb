{
 "cells": [
  {
   "cell_type": "code",
   "execution_count": 7,
   "metadata": {},
   "outputs": [],
   "source": [
    "#imports\n",
    "from scipy.optimize import minimize\n",
    "import matplotlib.pyplot as plt\n",
    "import numpy as np"
   ]
  },
  {
   "cell_type": "code",
   "execution_count": 8,
   "metadata": {},
   "outputs": [
    {
     "name": "stderr",
     "output_type": "stream",
     "text": [
      "<>:10: SyntaxWarning: 'float' object is not callable; perhaps you missed a comma?\n",
      "<>:10: SyntaxWarning: 'float' object is not callable; perhaps you missed a comma?\n",
      "C:\\Users\\fr8883ol-s\\AppData\\Local\\Temp\\ipykernel_888\\1754463919.py:10: SyntaxWarning: 'float' object is not callable; perhaps you missed a comma?\n",
      "  ((p['N']-Nm)/(p['N']+1)) == 0.75((1-(R-p['Rm'])/(R+1))**0.5668)\n"
     ]
    }
   ],
   "source": [
    "#functions\n",
    "def obj_func(p):\n",
    "    V, L, D, xB, Nm, B, Rm = distillation_model_lin(R, parameters)\n",
    "    return (p['c1']+p['c2'])*p['lambda']*V+p['W']*xb+B+p['U']*(1-['xD'])*D\n",
    "\n",
    "def constraint(C, params):\n",
    "    return 0.95 - Fpropen/Fdestilat \n",
    "\n",
    "def model(p):\n",
    "    ((p['N']-Nm)/(p['N']+1)) == 0.75((1-(R-p['Rm'])/(R+1))**0.5668)\n",
    "    Nm == np.log(p['xD']/(1-p['xD']))*((1-xB)/xB)/np.log(p['alfa'])\n",
    "    B = p['F'] - D \n",
    "    D = (p['xF']*p['F'] - xB*B)/p['xD']\n",
    "    R = L/D\n",
    "    V = L+D\n",
    "\n",
    "    return np.array([V, L, D, xB, Nm, B, Rm])\n",
    "\n"
   ]
  },
  {
   "cell_type": "code",
   "execution_count": 15,
   "metadata": {},
   "outputs": [
    {
     "ename": "NameError",
     "evalue": "name 'p' is not defined",
     "output_type": "error",
     "traceback": [
      "\u001b[1;31m---------------------------------------------------------------------------\u001b[0m",
      "\u001b[1;31mNameError\u001b[0m                                 Traceback (most recent call last)",
      "Cell \u001b[1;32mIn[15], line 12\u001b[0m\n\u001b[0;32m      1\u001b[0m params \u001b[38;5;241m=\u001b[39m {\n\u001b[0;32m      2\u001b[0m     \u001b[38;5;124m'\u001b[39m\u001b[38;5;124mF\u001b[39m\u001b[38;5;124m'\u001b[39m: \u001b[38;5;241m1.2e6\u001b[39m,\n\u001b[0;32m      3\u001b[0m     \u001b[38;5;124m'\u001b[39m\u001b[38;5;124mxF\u001b[39m\u001b[38;5;124m'\u001b[39m: \u001b[38;5;241m0.7\u001b[39m,\n\u001b[0;32m      4\u001b[0m     \u001b[38;5;124m'\u001b[39m\u001b[38;5;124mxD\u001b[39m\u001b[38;5;124m'\u001b[39m: \u001b[38;5;241m0.95\u001b[39m,\n\u001b[0;32m      5\u001b[0m     \u001b[38;5;124m'\u001b[39m\u001b[38;5;124malfa\u001b[39m\u001b[38;5;124m'\u001b[39m: \u001b[38;5;241m1.105\u001b[39m,\n\u001b[0;32m      6\u001b[0m     \u001b[38;5;124m'\u001b[39m\u001b[38;5;124mN\u001b[39m\u001b[38;5;124m'\u001b[39m: \u001b[38;5;241m94\u001b[39m,\n\u001b[0;32m      7\u001b[0m     \u001b[38;5;124m'\u001b[39m\u001b[38;5;124mc1\u001b[39m\u001b[38;5;124m'\u001b[39m: \u001b[38;5;241m3\u001b[39m\u001b[38;5;241m/\u001b[39m\u001b[38;5;241m10e6\u001b[39m,\n\u001b[0;32m      8\u001b[0m     \u001b[38;5;124m'\u001b[39m\u001b[38;5;124mc2\u001b[39m\u001b[38;5;124m'\u001b[39m: \u001b[38;5;241m0\u001b[39m\u001b[38;5;241m/\u001b[39m\u001b[38;5;241m10e6\u001b[39m,\n\u001b[0;32m      9\u001b[0m     \u001b[38;5;124m'\u001b[39m\u001b[38;5;124mW\u001b[39m\u001b[38;5;124m'\u001b[39m: \u001b[38;5;241m0.11\u001b[39m,\n\u001b[0;32m     10\u001b[0m     \u001b[38;5;124m'\u001b[39m\u001b[38;5;124mU\u001b[39m\u001b[38;5;124m'\u001b[39m: \u001b[38;5;241m-\u001b[39m\u001b[38;5;241m0.08\u001b[39m,\n\u001b[0;32m     11\u001b[0m     \u001b[38;5;124m'\u001b[39m\u001b[38;5;124mlambda\u001b[39m\u001b[38;5;124m'\u001b[39m: \u001b[38;5;241m130\u001b[39m,\n\u001b[1;32m---> 12\u001b[0m     \u001b[38;5;124m'\u001b[39m\u001b[38;5;124mRm\u001b[39m\u001b[38;5;124m'\u001b[39m: (\u001b[38;5;241m1\u001b[39m\u001b[38;5;241m/\u001b[39m(\u001b[43mp\u001b[49m[\u001b[38;5;124m'\u001b[39m\u001b[38;5;124malfa\u001b[39m\u001b[38;5;124m'\u001b[39m]\u001b[38;5;241m-\u001b[39m\u001b[38;5;241m1\u001b[39m))\u001b[38;5;241m*\u001b[39m((p[\u001b[38;5;124m'\u001b[39m\u001b[38;5;124mxD\u001b[39m\u001b[38;5;124m'\u001b[39m]\u001b[38;5;241m/\u001b[39mp[\u001b[38;5;124m'\u001b[39m\u001b[38;5;124mxF\u001b[39m\u001b[38;5;124m'\u001b[39m])\u001b[38;5;241m-\u001b[39mp[\u001b[38;5;124m'\u001b[39m\u001b[38;5;124malfa\u001b[39m\u001b[38;5;124m'\u001b[39m]\u001b[38;5;241m*\u001b[39m(\u001b[38;5;241m1\u001b[39m\u001b[38;5;241m-\u001b[39mp[\u001b[38;5;124m'\u001b[39m\u001b[38;5;124mxD\u001b[39m\u001b[38;5;124m'\u001b[39m])\u001b[38;5;241m/\u001b[39m(\u001b[38;5;241m1\u001b[39m\u001b[38;5;241m-\u001b[39mp[\u001b[38;5;124m'\u001b[39m\u001b[38;5;124mxF\u001b[39m\u001b[38;5;124m'\u001b[39m]))  \n\u001b[0;32m     13\u001b[0m }\n\u001b[0;32m     15\u001b[0m R_array \u001b[38;5;241m=\u001b[39m np\u001b[38;5;241m.\u001b[39mlinspace(\u001b[38;5;241m12\u001b[39m, \u001b[38;5;241m100\u001b[39m, \u001b[38;5;241m100\u001b[39m)\n\u001b[0;32m     16\u001b[0m Q_array \u001b[38;5;241m=\u001b[39m np\u001b[38;5;241m.\u001b[39mzeros(R_array\u001b[38;5;241m.\u001b[39mshape)\n",
      "\u001b[1;31mNameError\u001b[0m: name 'p' is not defined"
     ]
    }
   ],
   "source": [
    "params = {\n",
    "    'F': 1.2e6,\n",
    "    'xF': 0.7,\n",
    "    'xD': 0.95,\n",
    "    'alfa': 1.105,\n",
    "    'N': 94,\n",
    "    'c1': 3/10e6,\n",
    "    'c2': 0/10e6,\n",
    "    'W': 0.11,\n",
    "    'U': -0.08,\n",
    "    'lambda': 130,\n",
    "    'Rm': (1/(p['alfa']-1))*((p['xD']/p['xF'])-p['alfa']*(1-p['xD'])/(1-p['xF']))  \n",
    "}\n",
    "\n",
    "R_array = np.linspace(12, 100, 100)\n",
    "Q_array = np.zeros(R_array.shape)\n",
    "for i, R in enumerate(R_array):\n",
    "    Q_array[i] = objective(R, parameters)\n",
    "res = minimize(lambda R: objective(R, parameters), x0 = 10, method = None, options = {'disp': True}, bounds = ((parameters['Rm'], np.inf),)) # The comma here is␣\n",
    "    \n",
    "R_opt = res.x[0]\n",
    "Q_opt = objective(R_opt, parameters)"
   ]
  },
  {
   "cell_type": "code",
   "execution_count": null,
   "metadata": {},
   "outputs": [],
   "source": [
    "fig, ax = plt.subplots()\n",
    "ax.plot(R_array, Q_array)\n",
    "ax.plot(R_opt, Q_opt, marker = '*', ls = '', label = 'Found optimum')\n",
    "ax.set_xlabel('Reflux ratio')\n",
    "ax.set_ylabel('Objective function value')\n",
    "ax.legend()\n"
   ]
  }
 ],
 "metadata": {
  "interpreter": {
   "hash": "97ae724bfa85b9b34df7982b8bb8c7216f435b92902d749e4263f71162bea840"
  },
  "kernelspec": {
   "display_name": "Python 3.10.9 64-bit ('base': conda)",
   "name": "python3"
  },
  "language_info": {
   "codemirror_mode": {
    "name": "ipython",
    "version": 3
   },
   "file_extension": ".py",
   "mimetype": "text/x-python",
   "name": "python",
   "nbconvert_exporter": "python",
   "pygments_lexer": "ipython3",
   "version": "3.10.9"
  },
  "orig_nbformat": 4
 },
 "nbformat": 4,
 "nbformat_minor": 2
}
