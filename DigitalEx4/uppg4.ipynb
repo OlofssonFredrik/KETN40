{
 "cells": [
  {
   "cell_type": "code",
   "execution_count": 1,
   "metadata": {},
   "outputs": [],
   "source": [
    "#imports\n",
    "from scipy.optimize import minimize\n",
    "import matplotlib.pyplot as plt"
   ]
  },
  {
   "cell_type": "code",
   "execution_count": 3,
   "metadata": {},
   "outputs": [],
   "source": [
    "def obj_func(x):\n",
    "    return (1-x[0])**2\n",
    "\n",
    "def constraint(x):\n",
    "    return x[1]-x[0]**2"
   ]
  },
  {
   "cell_type": "code",
   "execution_count": 9,
   "metadata": {},
   "outputs": [
    {
     "name": "stdout",
     "output_type": "stream",
     "text": [
      "Optimization terminated successfully    (Exit mode 0)\n",
      "            Current function value: 0.0\n",
      "            Iterations: 1\n",
      "            Function evaluations: 3\n",
      "            Gradient evaluations: 1\n",
      "================================================================================\n",
      "res1: [1. 1.]\n"
     ]
    }
   ],
   "source": [
    "optim1 = {'disp':True}\n",
    "constraints = {\n",
    "    'type': 'eq',\n",
    "    'fun': constraint\n",
    "}\n",
    "res1 = minimize(obj_func,[1,1], method='SLSQP', options=optim1, constraints=constraints)\n",
    "print('='*80)\n",
    "print(f\"res1: {res1.x}\")"
   ]
  },
  {
   "cell_type": "code",
   "execution_count": null,
   "metadata": {},
   "outputs": [],
   "source": [
    "import numpy as np\n",
    "import matplotlib.pyplot as plt\n",
    "\n",
    "x1_v = np.linspace(-5,5,100)\n",
    "x2_v = np.linspace(-5,5,100)\n",
    "\n",
    "X1_V, X2_V = np.meshgrid(x1_v, x2_v)\n",
    "\n",
    "X1_X2 = np.array([X1_V, X2_V])\n",
    "\n",
    "Q = obj_func(X1_X2)\n",
    "\n",
    "fig = plt.figure()\n",
    "ax = fig.add_subplot(111, projection='3d')\n",
    "\n",
    "surf = ax.plot_surface(X1_V, X2_V, Q, cmap='viridis')\n",
    "\n",
    "ax.set_xlabel('X1')\n",
    "ax.set_ylabel('X2')\n",
    "ax.set_zlabel('Objective Value')\n",
    "ax.set_title('3D Landscape Plot')\n",
    "\n",
    "fig.colorbar(surf)\n",
    "plt.show()\n"
   ]
  }
 ],
 "metadata": {
  "interpreter": {
   "hash": "97ae724bfa85b9b34df7982b8bb8c7216f435b92902d749e4263f71162bea840"
  },
  "kernelspec": {
   "display_name": "Python 3.10.9 64-bit ('base': conda)",
   "name": "python3"
  },
  "language_info": {
   "codemirror_mode": {
    "name": "ipython",
    "version": 3
   },
   "file_extension": ".py",
   "mimetype": "text/x-python",
   "name": "python",
   "nbconvert_exporter": "python",
   "pygments_lexer": "ipython3",
   "version": "3.10.9"
  },
  "orig_nbformat": 4
 },
 "nbformat": 4,
 "nbformat_minor": 2
}
