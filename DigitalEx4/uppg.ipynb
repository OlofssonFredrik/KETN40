{
 "cells": [
  {
   "cell_type": "code",
   "execution_count": null,
   "metadata": {},
   "outputs": [],
   "source": [
    "import numpy as np\n",
    "from scipy.optimize import minimize, fsolve\n",
    "from scipy.integrate import solve_ivp\n"
   ]
  },
  {
   "cell_type": "code",
   "execution_count": null,
   "metadata": {},
   "outputs": [],
   "source": [
    "def objective_func(V, params):\n",
    "    params['V'] = np.hstack((V, params['Vtot']-np.sum(V)))\n",
    "    c_out = solver(params)\n",
    "    conversion = 1 - c_out/params['c0']\n",
    "    obj = 1-conversion\n",
    "    return obj\n",
    "\n",
    "def cstrmodel(t, c, params):\n",
    "    r = params['k']*c**params['n']\n",
    "    \n",
    "    \n",
    "\n",
    "def solver(params):\n",
    "    cinit = params['c0']*np.ones(params['V'].shape)\n",
    "    cstat = fsolve(lambda c: cstrmodel(0,c,params), cinit)\n",
    "\n",
    "\n",
    "    "
   ]
  },
  {
   "cell_type": "code",
   "execution_count": null,
   "metadata": {},
   "outputs": [],
   "source": [
    "params = {\n",
    "    'Cinlet': 20,\n",
    "    'Vtot': 20,\n",
    "    'q': 0.03,\n",
    "    'n': 2.4,\n",
    "    'k': 0.0062,\n",
    "    'Vguess': 10\n",
    "}\n",
    "\n"
   ]
  }
 ],
 "metadata": {
  "language_info": {
   "name": "python"
  },
  "orig_nbformat": 4
 },
 "nbformat": 4,
 "nbformat_minor": 2
}
