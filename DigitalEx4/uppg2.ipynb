{
 "cells": [
  {
   "cell_type": "code",
   "execution_count": null,
   "metadata": {},
   "outputs": [],
   "source": [
    "#imports\n",
    "from scipy.optimize import minimize\n",
    "import matplotlib.pyplot as plt"
   ]
  },
  {
   "cell_type": "code",
   "execution_count": null,
   "metadata": {},
   "outputs": [],
   "source": [
    "#Q = 100(x2-x1**2)**2+(1-x1)**2"
   ]
  },
  {
   "cell_type": "code",
   "execution_count": null,
   "metadata": {},
   "outputs": [],
   "source": [
    "def obj_func(x):\n",
    "    x1,x2=x[0],x[1]\n",
    "    return 100*(x2-x1**2)**2+(1-x1)**2\n",
    "optim1 = {'disp':True}\n",
    "for method in ['Nelder-Mead','COBYLA','BFGS', 'Powell']:\n",
    "    print('='*80)\n",
    "    res1 = minimize(obj_func,[2,2], method=method, options=optim1)\n",
    "    print(res1)\n"
   ]
  },
  {
   "cell_type": "code",
   "execution_count": null,
   "metadata": {},
   "outputs": [],
   "source": [
    "import numpy as np\n",
    "import matplotlib.pyplot as plt\n",
    "\n",
    "x1_v = np.linspace(-5,5,100)\n",
    "x2_v = np.linspace(-5,5,100)\n",
    "\n",
    "X1_V, X2_V = np.meshgrid(x1_v, x2_v)\n",
    "\n",
    "X1_X2 = np.array([X1_V, X2_V])\n",
    "\n",
    "Q = obj_func(X1_X2)\n",
    "\n",
    "fig = plt.figure()\n",
    "ax = fig.add_subplot(111, projection='3d')\n",
    "\n",
    "surf = ax.plot_surface(X1_V, X2_V, Q, cmap='viridis')\n",
    "\n",
    "ax.set_xlabel('X1')\n",
    "ax.set_ylabel('X2')\n",
    "ax.set_zlabel('Objective Value')\n",
    "ax.set_title('3D Landscape Plot')\n",
    "\n",
    "fig.colorbar(surf)\n",
    "plt.show()\n"
   ]
  }
 ],
 "metadata": {
  "interpreter": {
   "hash": "97ae724bfa85b9b34df7982b8bb8c7216f435b92902d749e4263f71162bea840"
  },
  "kernelspec": {
   "display_name": "Python 3.10.9 64-bit ('base': conda)",
   "name": "python3"
  },
  "language_info": {
   "codemirror_mode": {
    "name": "ipython",
    "version": 3
   },
   "file_extension": ".py",
   "mimetype": "text/x-python",
   "name": "python",
   "nbconvert_exporter": "python",
   "pygments_lexer": "ipython3",
   "version": "3.10.9"
  },
  "orig_nbformat": 4
 },
 "nbformat": 4,
 "nbformat_minor": 2
}
