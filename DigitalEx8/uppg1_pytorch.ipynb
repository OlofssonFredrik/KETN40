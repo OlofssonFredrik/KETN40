{
 "cells": [
  {
   "cell_type": "code",
   "execution_count": 9,
   "metadata": {},
   "outputs": [],
   "source": [
    "import torch\n",
    "import torch.nn as nn\n",
    "import torch.optim as optim\n",
    "import numpy as np\n",
    "import matplotlib.pyplot as plt\n",
    "from PhysPropWater import rho\n",
    "from sklearn.preprocessing import MinMaxScaler"
   ]
  },
  {
   "cell_type": "code",
   "execution_count": 10,
   "metadata": {},
   "outputs": [],
   "source": [
    "torch.manual_seed(42)\n",
    "np.random.seed(42)\n",
    "\n",
    "scaler = MinMaxScaler()\n",
    "\n",
    "#x = torch.tensor(rho[:,0], dtype=torch.float32).reshape(-1, 1)\n",
    "#print(x)\n",
    "X_scaled = scaler.fit_transform(rho[:,0].reshape(-1, 1))\n",
    "y_scaled = scaler.fit_transform(rho[:,1].reshape(-1, 1))\n",
    "X_scaled_tensor = torch.tensor(X_scaled, dtype=torch.float32)\n",
    "y_scaled_tensor = torch.tensor(y_scaled, dtype=torch.float32)"
   ]
  },
  {
   "cell_type": "code",
   "execution_count": 11,
   "metadata": {},
   "outputs": [],
   "source": [
    "class ModelA(nn.Module):\n",
    "    def __init__(self):\n",
    "        super(ModelA, self).__init__()\n",
    "        self.model = nn.Sequential(\n",
    "            nn.Linear(1, 10),\n",
    "            nn.ReLU(),\n",
    "            nn.Linear(10, 1)    \n",
    "        )\n",
    "        \n",
    "    def forward(self, x):\n",
    "        return self.model(x)\n",
    "\n",
    "class ModelB(nn.Module):\n",
    "    def __init__(self):\n",
    "        super(ModelB, self).__init__()\n",
    "        self.model = nn.Sequential(\n",
    "            nn.Linear(1, 10),\n",
    "            nn.ReLU(),\n",
    "            nn.Linear(10, 10),\n",
    "            nn.ReLU(),\n",
    "            \n",
    "            nn.Linear(10, 10),\n",
    "            nn.ReLU(),\n",
    "            nn.Linear(10, 10),\n",
    "            nn.ReLU(),\n",
    "            \n",
    "            nn.Linear(10, 1)\n",
    "        )\n",
    "        \n",
    "    def forward(self, x):\n",
    "        return self.model(x)"
   ]
  },
  {
   "cell_type": "code",
   "execution_count": 12,
   "metadata": {},
   "outputs": [
    {
     "name": "stderr",
     "output_type": "stream",
     "text": [
      "C:\\Users\\olofs\\AppData\\Local\\Temp\\ipykernel_11312\\468604007.py:2: UserWarning: To copy construct from a tensor, it is recommended to use sourceTensor.clone().detach() or sourceTensor.clone().detach().requires_grad_(True), rather than torch.tensor(sourceTensor).\n",
      "  X = torch.tensor(X_scaled_tensor, dtype=torch.float32)\n",
      "C:\\Users\\olofs\\AppData\\Local\\Temp\\ipykernel_11312\\468604007.py:3: UserWarning: To copy construct from a tensor, it is recommended to use sourceTensor.clone().detach() or sourceTensor.clone().detach().requires_grad_(True), rather than torch.tensor(sourceTensor).\n",
      "  y = torch.tensor(y_scaled_tensor, dtype=torch.float32)\n"
     ]
    }
   ],
   "source": [
    "# Data\n",
    "X = torch.tensor(X_scaled_tensor, dtype=torch.float32)\n",
    "y = torch.tensor(y_scaled_tensor, dtype=torch.float32)\n",
    "\n",
    "#print(f\"X.shape = {X.shape}\")\n",
    "#print(f\"X: {X}\")\n",
    "#print(f\"y: {y}\")"
   ]
  },
  {
   "cell_type": "code",
   "execution_count": 13,
   "metadata": {},
   "outputs": [],
   "source": [
    "#model = ModelA() \n",
    "model = ModelB()\n",
    "loss_fn = nn.MSELoss()\n",
    "optimizer = optim.Adam(model.parameters())"
   ]
  },
  {
   "cell_type": "code",
   "execution_count": 14,
   "metadata": {},
   "outputs": [
    {
     "name": "stdout",
     "output_type": "stream",
     "text": [
      "Starting training...\n",
      "Epoch 0/5000 - Loss: 0.6507376432418823\n",
      "Epoch 500/5000 - Loss: 0.00014085556904319674\n",
      "Epoch 1000/5000 - Loss: 3.353875581524335e-05\n",
      "Epoch 1500/5000 - Loss: 2.9376438760664314e-05\n",
      "Epoch 2000/5000 - Loss: 2.6977293600793928e-05\n",
      "Epoch 2500/5000 - Loss: 2.552804653532803e-05\n",
      "Epoch 3000/5000 - Loss: 2.4152477635652758e-05\n",
      "Epoch 3500/5000 - Loss: 2.294593105034437e-05\n",
      "Epoch 4000/5000 - Loss: 2.201324241468683e-05\n",
      "Epoch 4500/5000 - Loss: 2.138171112164855e-05\n",
      "Training completed.\n"
     ]
    }
   ],
   "source": [
    "# Train the model\n",
    "\n",
    "EPOCS = 5000\n",
    "losses = []  # List to store loss values for each epoch\n",
    "every_500_losses = []\n",
    "\n",
    "print(\"Starting training...\")\n",
    "\n",
    "for epoch in range(EPOCS):\n",
    "    optimizer.zero_grad()\n",
    "    y_pred = model(X)\n",
    "    loss = loss_fn(y_pred, y)\n",
    "    loss.backward()\n",
    "    optimizer.step()\n",
    "    losses.append(loss.item())\n",
    "    \n",
    "    # Print the loss every 500 epochs to monitor training\n",
    "    if epoch % 500 == 0:\n",
    "        print(f\"Epoch {epoch}/{EPOCS} - Loss: {loss.item()}\")\n",
    "\n",
    "    \n",
    "\n",
    "print(\"Training completed.\")"
   ]
  },
  {
   "cell_type": "code",
   "execution_count": 15,
   "metadata": {},
   "outputs": [
    {
     "name": "stdout",
     "output_type": "stream",
     "text": [
      "Predictions completed for xpred values.\n"
     ]
    }
   ],
   "source": [
    "# Predictions\n",
    "xpred = torch.linspace(0, 1, 120).view(-1, 1)\n",
    "ypred = model(xpred).detach().numpy()\n",
    "print(\"Predictions completed for xpred values.\")"
   ]
  },
  {
   "cell_type": "code",
   "execution_count": 21,
   "metadata": {},
   "outputs": [
    {
     "data": {
      "image/png": "[encoded data removed]",
      "text/plain": [
       "<Figure size 720x576 with 2 Axes>"
      ]
     },
     "metadata": {
      "needs_background": "light"
     },
     "output_type": "display_data"
    },
    {
     "name": "stdout",
     "output_type": "stream",
     "text": [
      "Parameter containing:\n",
      "tensor([[ 0.8284],\n",
      "        [ 0.9607],\n",
      "        [-0.1479],\n",
      "        [ 0.8849],\n",
      "        [-0.3801],\n",
      "        [ 0.4914],\n",
      "        [-0.5471],\n",
      "        [ 0.8886],\n",
      "        [ 1.1480],\n",
      "        [-0.3453]], requires_grad=True)\n",
      "Parameter containing:\n",
      "tensor([ 1.0507, -0.0786,  0.9442,  0.0665,  0.5346, -0.1474,  0.9562,  0.2460,\n",
      "        -0.3444,  0.4902], requires_grad=True)\n",
      "Parameter containing:\n",
      "tensor([[-0.1457, -0.0371, -0.1284,  0.2098, -0.2496, -0.1458, -0.0893, -0.1901,\n",
      "          0.0298, -0.3123],\n",
      "        [ 0.4581, -0.1378,  0.4191,  0.2147,  0.0588,  0.0897,  0.2213,  0.4444,\n",
      "          0.0377,  0.0938],\n",
      "        [ 0.1116, -0.1948,  0.2430,  0.1831,  0.3263, -0.4868,  0.3257, -0.0102,\n",
      "         -0.1239,  0.0152],\n",
      "        [-0.3130, -0.1222, -0.2426,  0.2595,  0.0911,  0.1310,  0.1000, -0.0055,\n",
      "          0.2475, -0.2247],\n",
      "        [ 0.1978, -0.2273,  0.3072, -0.0719,  0.3163, -0.2413,  0.4791, -0.0771,\n",
      "         -0.3707,  0.0388],\n",
      "        [ 0.4585,  0.2559,  0.4728, -0.0778, -0.1664, -0.1858, -0.0524,  0.3355,\n",
      "          0.2714,  0.4361],\n",
      "        [ 0.0278, -0.1315,  0.3815, -0.0085,  0.4121, -0.3687,  0.4039, -0.0803,\n",
      "         -0.3825,  0.3503],\n",
      "        [ 0.0491, -0.0985,  0.1707,  0.1972, -0.2470, -0.1804,  0.2719, -0.1245,\n",
      "         -0.1258, -0.3197],\n",
      "        [-0.1811,  0.0790, -0.0417, -0.2295,  0.0074, -0.2160, -0.2683, -0.1741,\n",
      "         -0.2768, -0.2014],\n",
      "        [ 0.3899,  0.0262,  0.2460, -0.3259, -0.0325, -0.3798,  0.2304, -0.2873,\n",
      "         -0.3483,  0.0736]], requires_grad=True)\n",
      "Parameter containing:\n",
      "tensor([ 0.0009,  0.0509,  0.0662, -0.2143, -0.0139, -0.0214,  0.0960, -0.2674,\n",
      "         0.2651,  0.0621], requires_grad=True)\n",
      "Parameter containing:\n",
      "tensor([[ 0.2721,  0.0985, -0.2678,  0.2188, -0.0870, -0.1212, -0.2625, -0.3144,\n",
      "          0.0905, -0.0691],\n",
      "        [ 0.1231, -0.3118,  0.1923, -0.2321, -0.0546,  0.0073,  0.0890,  0.2406,\n",
      "          0.2881, -0.3104],\n",
      "        [ 0.0796, -0.1609, -0.0580, -0.2367,  0.2880, -0.2586,  0.1359,  0.0960,\n",
      "          0.1028, -0.1983],\n",
      "        [ 0.2874, -0.0105, -0.0228, -0.2787,  0.1327, -0.1367, -0.2388,  0.2567,\n",
      "          0.0705, -0.2623],\n",
      "        [-0.1601, -0.0591,  0.1376, -0.0808, -0.1804, -0.1558, -0.2819,  0.0978,\n",
      "          0.2448, -0.3451],\n",
      "        [ 0.0734,  0.3410,  0.2487, -0.1126,  0.3914,  0.3482,  0.3992, -0.0404,\n",
      "         -0.0837,  0.2542],\n",
      "        [-0.0559, -0.1203,  0.1772,  0.2718, -0.0313, -0.0979, -0.0228, -0.0337,\n",
      "          0.0760,  0.0612],\n",
      "        [-0.2872, -0.1167,  0.2663,  0.1232, -0.0157, -0.1907, -0.1935, -0.2833,\n",
      "         -0.1031,  0.1068],\n",
      "        [ 0.2016,  0.4108, -0.3081, -0.1902, -0.3376,  0.6019, -0.1931, -0.0819,\n",
      "          0.1308, -0.3409],\n",
      "        [-0.2047,  0.3322, -0.1696, -0.0634, -0.5670,  0.3184,  0.0137,  0.1152,\n",
      "         -0.2205, -0.4788]], requires_grad=True)\n",
      "Parameter containing:\n",
      "tensor([-0.2568,  0.1876,  0.1271,  0.1961,  0.1240,  0.2434, -0.0287, -0.2405,\n",
      "        -0.1318, -0.3535], requires_grad=True)\n",
      "Parameter containing:\n",
      "tensor([[ 0.1295, -0.1553, -0.0636, -0.1820, -0.0576, -0.2226, -0.2066,  0.1049,\n",
      "         -0.0940,  0.1952],\n",
      "        [-0.1014, -0.2320, -0.0558, -0.1533, -0.0967, -0.3010,  0.1769, -0.2202,\n",
      "          0.1589,  0.1435],\n",
      "        [ 0.2259, -0.2426,  0.2274, -0.1349,  0.1173,  0.4677, -0.0446, -0.0024,\n",
      "         -0.2672, -0.4280],\n",
      "        [ 0.1518, -0.3139,  0.1963,  0.2366,  0.2991, -0.0746, -0.2598,  0.0711,\n",
      "          0.1747, -0.3147],\n",
      "        [-0.0718, -0.1896, -0.0277, -0.1557, -0.1293, -0.1004, -0.3005,  0.2595,\n",
      "          0.2651, -0.0496],\n",
      "        [-0.0360, -0.1291, -0.2856, -0.3077,  0.1175, -0.1736, -0.2033, -0.0247,\n",
      "         -0.1053, -0.1023],\n",
      "        [ 0.0102, -0.0290, -0.0891, -0.0981, -0.2259,  0.4408, -0.1061,  0.0838,\n",
      "         -0.5674, -0.3298],\n",
      "        [ 0.2948,  0.1343, -0.2835,  0.1140,  0.2887,  0.0656,  0.2011,  0.3118,\n",
      "         -0.0485,  0.0656],\n",
      "        [-0.2198, -0.0652,  0.2342,  0.1621, -0.2001, -0.2536, -0.2161, -0.3121,\n",
      "         -0.2440, -0.0782],\n",
      "        [ 0.2134,  0.0529, -0.2405, -0.2537,  0.1573, -0.2352, -0.0389,  0.1517,\n",
      "         -0.1464, -0.0345]], requires_grad=True)\n",
      "Parameter containing:\n",
      "tensor([-0.0275, -0.0748, -0.0385, -0.2819, -0.2556, -0.1693,  0.4248, -0.1648,\n",
      "        -0.2124,  0.0767], requires_grad=True)\n",
      "Parameter containing:\n",
      "tensor([[ 0.0872,  0.1733,  0.4367,  0.1761, -0.3135,  0.0280,  0.3509, -0.0188,\n",
      "         -0.1863,  0.3015]], requires_grad=True)\n",
      "Parameter containing:\n",
      "tensor([-0.0104], requires_grad=True)\n"
     ]
    }
   ],
   "source": [
    "# Create a figure and a 2x1 grid of axes\n",
    "fig, axes = plt.subplots(2, 1, figsize=(10, 8))\n",
    "\n",
    "# Plotting data and model predictions on the first subplot\n",
    "\n",
    "axes[0].plot(scaler.inverse_transform(X_scaled_tensor.numpy()), scaler.inverse_transform(y_scaled_tensor.numpy()), '.', label='Data')\n",
    "axes[0].plot(scaler.inverse_transform(xpred.numpy()), scaler.inverse_transform(ypred), label='Model')\n",
    "axes[0].set_xlabel('Temperature')\n",
    "axes[0].set_ylabel('Density')\n",
    "axes[0].legend()\n",
    "\n",
    "# Plotting loss values on the second subplot\n",
    "axes[1].plot(losses)\n",
    "axes[1].set_xlabel('Epochs')\n",
    "axes[1].set_ylabel('Mean Squared Error Loss')\n",
    "\n",
    "# Adjust layout to avoid overlaps\n",
    "plt.tight_layout()\n",
    "plt.show()\n",
    "\n",
    "# Print model weights\n",
    "for param in model.parameters():\n",
    "    print(param)\n",
    "    #print(param.data)\n"
   ]
  }
 ],
 "metadata": {
  "kernelspec": {
   "display_name": "base",
   "language": "python",
   "name": "python3"
  },
  "language_info": {
   "codemirror_mode": {
    "name": "ipython",
    "version": 3
   },
   "file_extension": ".py",
   "mimetype": "text/x-python",
   "name": "python",
   "nbconvert_exporter": "python",
   "pygments_lexer": "ipython3",
   "version": "3.9.12"
  },
  "orig_nbformat": 4
 },
 "nbformat": 4,
 "nbformat_minor": 2
}
