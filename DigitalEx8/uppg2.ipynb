{
 "cells": [
  {
   "cell_type": "code",
   "execution_count": null,
   "metadata": {},
   "outputs": [],
   "source": [
    "import torch\n",
    "import torch.nn as nn\n",
    "import torch.optim as optim\n",
    "import numpy as np\n",
    "import matplotlib.pyplot as plt\n",
    "from PhysPropWater import rho\n",
    "from sklearn.preprocessing import MinMaxScaler\n",
    "import pickle"
   ]
  },
  {
   "cell_type": "code",
   "execution_count": null,
   "metadata": {},
   "outputs": [],
   "source": [
    "torch.manual_seed(42)\n",
    "np.random.seed(42)\n",
    "scaler = MinMaxScaler()"
   ]
  },
  {
   "cell_type": "code",
   "execution_count": null,
   "metadata": {},
   "outputs": [],
   "source": [
    "with open('reacdata.pc','rb') as f:\n",
    "    data = pickle.load(f)\n",
    "\n",
    "ph = torch.tensor(data['pH'], dtype=torch.float32).reshape(-1, 1)\n",
    "ratio_s_a = torch.tensor(data['ratio S/A'], dtype=torch.float32).reshape(-1, 1)\n",
    "Yield = torch.tensor(data['yield'], dtype=torch.float32).reshape(-1, 1)\n",
    "\n",
    "ph_scaled = scaler.fit_transform(ph)\n",
    "ratio_s_a_scaled = scaler.fit_transform(ratio_s_a)  \n",
    "Yield_scaled = scaler.fit_transform(Yield)"
   ]
  },
  {
   "cell_type": "code",
   "execution_count": null,
   "metadata": {},
   "outputs": [],
   "source": [
    "class ModelA(nn.Module):\n",
    "    def __init__(self):\n",
    "        super(ModelA, self).__init__()\n",
    "        self.model = nn.Sequential(\n",
    "            nn.Linear(2, 20),\n",
    "            nn.ReLU(),\n",
    "            nn.Sigmoid(20, 1)    \n",
    "        )\n",
    "        \n",
    "    def forward(self, x):\n",
    "        return self.model(x)"
   ]
  },
  {
   "cell_type": "code",
   "execution_count": null,
   "metadata": {},
   "outputs": [],
   "source": []
  }
 ],
 "metadata": {
  "kernelspec": {
   "display_name": "base",
   "language": "python",
   "name": "python3"
  },
  "language_info": {
   "codemirror_mode": {
    "name": "ipython",
    "version": 3
   },
   "file_extension": ".py",
   "mimetype": "text/x-python",
   "name": "python",
   "nbconvert_exporter": "python",
   "pygments_lexer": "ipython3",
   "version": "3.9.12"
  },
  "orig_nbformat": 4
 },
 "nbformat": 4,
 "nbformat_minor": 2
}
