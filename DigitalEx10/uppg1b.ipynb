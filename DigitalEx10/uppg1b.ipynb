{
 "cells": [
  {
   "cell_type": "code",
   "execution_count": null,
   "metadata": {},
   "outputs": [],
   "source": [
    "import matplotlib.pyplot as plt\n",
    "import numpy as np\n",
    "from scipy.integrate import solve_ivp\n"
   ]
  },
  {
   "cell_type": "code",
   "execution_count": null,
   "metadata": {},
   "outputs": [],
   "source": [
    "F = 1\n",
    "V1 = 5\n",
    "V2 = 10\n",
    "cin = 1\n",
    "A = np.array([[-F/V1,0],[F/V2,-F/V2]])\n",
    "B = np.array([F/V1,0])\n",
    "def model(t, c):\n",
    "    dcdt = A@c + B*cin\n",
    "    return dcdt"
   ]
  },
  {
   "cell_type": "code",
   "execution_count": null,
   "metadata": {},
   "outputs": [],
   "source": [
    "c0 = np.array([0,0])\n",
    "t_span = [0,60.]\n",
    "sol = solve_ivp(model, t_span, c0, atol=1e-9, rtol=1e-6)\n",
    "t = sol.t\n",
    "c = sol.y.T"
   ]
  },
  {
   "cell_type": "code",
   "execution_count": null,
   "metadata": {},
   "outputs": [],
   "source": [
    "def discrete_model(h, tend):\n",
    "    e1 = np.exp(-F*h/V1)\n",
    "    e2 = np.exp(-F*h/V2)\n",
    "    phi = np.array([[e1, 0],\n",
    "    [V1/(V1-V2)*(e1-e2), e2]])\n",
    "    gamma = np.array([1-e1, (1/(V1-V2))*(-V1*e1+V2*e2+V1-V2)])\n",
    "    C = np.array([0, 1])\n",
    "    # Initial time\n",
    "    ti = 0\n",
    "    xi = [0, 0]\n",
    "    yi = C@xi\n",
    "    # Save t, x and y in list of lists\n",
    "    t = [ti]\n",
    "    x = [xi]\n",
    "    y = [yi]\n",
    "    # Loop for each sample\n",
    "    while ti<tend:\n",
    "        ti += h\n",
    "        xi = phi@xi + gamma*cin\n",
    "        yi = C@xi\n",
    "        t.append(ti)\n",
    "        x.append(xi)\n",
    "        y.append(yi)\n",
    "    # Convert lists to np arrays\n",
    "    t = np.array(t)\n",
    "    x = np.array(x)\n",
    "    y = np.array(y)\n",
    "    return t, x, y"
   ]
  },
  {
   "cell_type": "code",
   "execution_count": null,
   "metadata": {},
   "outputs": [],
   "source": [
    "plt.figure()\n",
    "plt.plot(t, c[:,0], label=r'$c_1$')\n",
    "plt.plot(t, c[:,1], label=r'$c_2$')\n",
    "\n",
    "for h in [1,5,10]:\n",
    "    t, x, y = discrete_model(h, 60)\n",
    "    plt.step(t,y, where='post', label=h)\n",
    "    plt.legend()"
   ]
  }
 ],
 "metadata": {
  "language_info": {
   "name": "python"
  }
 },
 "nbformat": 4,
 "nbformat_minor": 2
}
