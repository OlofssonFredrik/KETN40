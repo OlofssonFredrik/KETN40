{
 "cells": [
  {
   "cell_type": "code",
   "execution_count": null,
   "metadata": {},
   "outputs": [],
   "source": [
    "#imports\n",
    "import matplotlib.pyplot as plt\n",
    "\n",
    "efeffefe"
   ]
  },
  {
   "cell_type": "code",
   "execution_count": null,
   "metadata": {},
   "outputs": [],
   "source": [
    "import numpy as np\n",
    "from scipy.integrate import solve_ivp\n",
    "import matplotlib.pyplot as plt\n",
    "def tubular_reactor_model(t, y, u, params):\n",
    "    x1 = y[0]\n",
    "    x2 = y[1]\n",
    "    dx1dz = params['alpha']/params['v']*(1-x1)*np.exp(params['gamma']*x2/(1+x2))\n",
    "    dx2dz = params['alpha']*params['delta']/params['v']*(1-x1)*np.exp(params['gamma']*x2/(1+x2)) + params['beta']/params['v']*(u - x2)\n",
    "    return np.array([dx1dz,dx2dz])\n",
    "\n"
   ]
  },
  {
   "cell_type": "code",
   "execution_count": null,
   "metadata": {},
   "outputs": [],
   "source": [
    "params = {}\n",
    "params['v'] = 0.1 # m/s\n",
    "params['L'] = 1 # m\n",
    "params['alpha'] = 0.058 # 1/s\n",
    "params['beta'] = 0.2 # 1/s\n",
    "params['gamma'] = 16.7 #\n",
    "params['delta'] = 0.25 #\n",
    "params['cin'] = 0.02 # mol/L\n",
    "params['Tin'] = 340 # K\n",
    "y0 = np.zeros(2)\n",
    "zspan = [0, params['L']]\n",
    "u = 0 # This is the normalized wall temperature\n",
    "sol = solve_ivp(lambda t,y: tubular_reactor_model(t, y, u, params), zspan, y0)\n",
    "z = sol.t\n",
    "x1 = sol.y[0,:]\n",
    "x2 = sol.y[1,:]"
   ]
  }
 ],
 "metadata": {
  "language_info": {
   "name": "python"
  },
  "orig_nbformat": 4
 },
 "nbformat": 4,
 "nbformat_minor": 2
}
