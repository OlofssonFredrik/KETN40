{
 "cells": [
  {
   "cell_type": "code",
   "execution_count": 1,
   "metadata": {},
   "outputs": [],
   "source": [
    "import numpy as np\n",
    "from scipy.integrate import solve_ivp\n",
    "import matplotlib.pyplot as plt\n",
    "from scipy.optimize import minimize\n",
    "\n",
    "from functions import (\n",
    "    obj_segments,\n",
    "    obj_segments_2,\n",
    "    obj_segments_3,\n",
    "    const_segments,\n",
    "    tubular_reactor_model,\n",
    "    sim_segments,\n",
    "    const,\n",
    ")"
   ]
  },
  {
   "cell_type": "code",
   "execution_count": 2,
   "metadata": {},
   "outputs": [],
   "source": [
    "params = {\n",
    "    \"v\": 0.1,  # m/s\n",
    "    \"L\": 1,  # m\n",
    "    \"alpha\": 0.058,  # 1/s\n",
    "    \"beta\": 0.2,  # 1/s\n",
    "    \"gamma\": 16.7,  #\n",
    "    \"delta\": 0.25,  #\n",
    "    \"cin\": 0.02,  # mol/L\n",
    "    \"Tin\": 340,  # K\n",
    "    \"c_lb\": 0,\n",
    "    \"c_ub\": 0.02,\n",
    "    \"T_lb\": 280,\n",
    "    \"T_ub\": 400,\n",
    "    \"Tw_lb\": 280,\n",
    "    \"Tw_ub\": 400,\n",
    "}\n",
    "\n",
    "\n",
    "# Bounds, constraints and initial guess\n",
    "x_lb = (params[\"Tw_lb\"] - params[\"Tin\"]) / params[\"Tin\"]\n",
    "x_ub = (params[\"Tw_ub\"] - params[\"Tin\"]) / params[\"Tin\"]\n",
    "bounds = [[x_lb, x_ub]]\n",
    "bounds_segments = [[x_lb, x_ub]] * 10\n",
    "init_guess = x_ub * np.ones(10)\n",
    "con_segments = {\"type\": \"ineq\", \"fun\": lambda u: const_segments(u, params)}"
   ]
  },
  {
   "cell_type": "code",
   "execution_count": 3,
   "metadata": {},
   "outputs": [
    {
     "name": "stdout",
     "output_type": "stream",
     "text": [
      "weights = [0.         0.07142857 0.14285714 0.21428571 0.28571429 0.35714286\n",
      " 0.42857143 0.5        0.57142857 0.64285714 0.71428571 0.78571429\n",
      " 0.85714286 0.92857143 1.        ]\n"
     ]
    }
   ],
   "source": []
  },
  {
   "cell_type": "code",
   "execution_count": 4,
   "metadata": {},
   "outputs": [],
   "source": [
    "# Optimization\n",
    "weights = np.linspace(0, 1, 15)\n",
    "\n",
    "conversions = []\n",
    "Temperatues = []\n",
    "for w1 in weights:\n",
    "    res = minimize(\n",
    "        lambda u: obj_segments_3(u, w1, params, print_vals=False),\n",
    "        x0=init_guess,\n",
    "        bounds=bounds_segments,\n",
    "        method=\"SLSQP\",\n",
    "        constraints=con_segments,\n",
    "    )\n",
    "\n",
    "    _, conversion, temp = obj_segments_3(res.x, w1, params, print_vals=True, full_output=True)\n",
    "    Temp = params['Tin'] * (1+temp)\n",
    "    Temperatues.append(Temp)\n",
    "    conversions.append(conversion[-1])"
   ]
  },
  {
   "cell_type": "code",
   "execution_count": null,
   "metadata": {},
   "outputs": [
    {
     "data": {
      "image/png": "[encoded data removed]",
      "text/plain": [
       "<Figure size 640x480 with 1 Axes>"
      ]
     },
     "metadata": {},
     "output_type": "display_data"
    }
   ],
   "source": [
    "plt.scatter(conversions, Temperatues)\n",
    "plt.xlabel(\"Conversion\")\n",
    "plt.ylabel(\"Temperature\")\n",
    "plt.show()"
   ]
  }
 ],
 "metadata": {
  "kernelspec": {
   "display_name": "Python 3",
   "language": "python",
   "name": "python3"
  },
  "language_info": {
   "codemirror_mode": {
    "name": "ipython",
    "version": 3
   },
   "file_extension": ".py",
   "mimetype": "text/x-python",
   "name": "python",
   "nbconvert_exporter": "python",
   "pygments_lexer": "ipython3",
   "version": "3.11.5"
  },
  "orig_nbformat": 4
 },
 "nbformat": 4,
 "nbformat_minor": 2
}
