{
 "cells": [
  {
   "cell_type": "code",
   "execution_count": null,
   "metadata": {},
   "outputs": [],
   "source": [
    "from scipy.optimize import linprog\n",
    "import numpy as np\n",
    "import matplotlib.pyplot as plt"
   ]
  },
  {
   "cell_type": "code",
   "execution_count": null,
   "metadata": {},
   "outputs": [],
   "source": [
    "# Objective function\n",
    "c = np.array([-.16*2000, -.2*2000])"
   ]
  },
  {
   "cell_type": "code",
   "execution_count": null,
   "metadata": {},
   "outputs": [],
   "source": [
    "# Upper bounds. The lower bounds are included by inverting the sign.\n",
    "A_ub = np.array([[2000, 0],\n",
    "                [0, 2000],\n",
    "                [.6*2000, .3*2000]\n",
    "                ])\n",
    "b_ub = np.array([8000, 10000, 6000])"
   ]
  },
  {
   "cell_type": "code",
   "execution_count": 14,
   "metadata": {},
   "outputs": [
    {
     "name": "stdout",
     "output_type": "stream",
     "text": [
      "        message: Optimization terminated successfully. (HiGHS Status 7: Optimal)\n",
      "        success: True\n",
      "         status: 0\n",
      "            fun: -3280.0\n",
      "              x: [ 4.000e+00  5.000e+00]\n",
      "            nit: -1\n",
      "          lower:  residual: [ 4.000e+00  5.000e+00]\n",
      "                 marginals: [ 0.000e+00  0.000e+00]\n",
      "          upper:  residual: [       inf        inf]\n",
      "                 marginals: [ 0.000e+00  0.000e+00]\n",
      "          eqlin:  residual: []\n",
      "                 marginals: []\n",
      "        ineqlin:  residual: [ 0.000e+00  0.000e+00]\n",
      "                 marginals: [ 0.000e+00  0.000e+00]\n",
      " mip_node_count: 0\n",
      " mip_dual_bound: -3280.0\n",
      "        mip_gap: 0.0\n"
     ]
    }
   ],
   "source": [
    "bounds = ((0, np.inf), (0, np.inf))\n",
    "res = linprog(c,\n",
    "            A_ub = A_ub,\n",
    "            b_ub = b_ub,\n",
    "            integrality = np.array([1, 1]),\n",
    "            bounds = bounds,\n",
    "            )\n",
    "print(res)"
   ]
  },
  {
   "cell_type": "code",
   "execution_count": 13,
   "metadata": {},
   "outputs": [
    {
     "name": "stdout",
     "output_type": "stream",
     "text": [
      "        message: Optimization terminated successfully. (HiGHS Status 7: Optimal)\n",
      "        success: True\n",
      "         status: 0\n",
      "            fun: -2560.0\n",
      "              x: [ 3.000e+00  4.000e+00]\n",
      "            nit: -1\n",
      "          lower:  residual: [ 3.000e+00  4.000e+00]\n",
      "                 marginals: [ 0.000e+00  0.000e+00]\n",
      "          upper:  residual: [       inf        inf]\n",
      "                 marginals: [ 0.000e+00  0.000e+00]\n",
      "          eqlin:  residual: [ 0.000e+00]\n",
      "                 marginals: [ 0.000e+00]\n",
      "        ineqlin:  residual: [ 2.000e+03  2.000e+03]\n",
      "                 marginals: [ 0.000e+00  0.000e+00]\n",
      " mip_node_count: 0\n",
      " mip_dual_bound: -2560.0\n",
      "        mip_gap: 0.0\n"
     ]
    }
   ],
   "source": [
    "A_eq = np.array([[.6*2000, .3*2000],])\n",
    "b_eq = np.array([6000],)\n",
    "A_ub = np.array([[2000, 0],\n",
    "                [0, 2000],\n",
    "                ])\n",
    "b_ub = np.array([8000, 10000])\n",
    "res = linprog(c,\n",
    "            A_ub = A_ub,\n",
    "            b_ub = b_ub,\n",
    "            A_eq = A_eq,\n",
    "            b_eq = b_eq,\n",
    "            integrality = np.array([1, 1]),\n",
    "            bounds = bounds,\n",
    "            )\n",
    "print(res)"
   ]
  }
 ],
 "metadata": {
  "kernelspec": {
   "display_name": "Python 3",
   "language": "python",
   "name": "python3"
  },
  "language_info": {
   "codemirror_mode": {
    "name": "ipython",
    "version": 3
   },
   "file_extension": ".py",
   "mimetype": "text/x-python",
   "name": "python",
   "nbconvert_exporter": "python",
   "pygments_lexer": "ipython3",
   "version": "3.11.5"
  },
  "orig_nbformat": 4
 },
 "nbformat": 4,
 "nbformat_minor": 2
}
